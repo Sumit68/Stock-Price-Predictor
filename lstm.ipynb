{
 "cells": [
  {
   "cell_type": "code",
   "execution_count": 116,
   "metadata": {},
   "outputs": [],
   "source": [
    "import pyforest"
   ]
  },
  {
   "cell_type": "code",
   "execution_count": 117,
   "metadata": {},
   "outputs": [
    {
     "data": {
      "application/javascript": [
       "\n",
       "        if (window._pyforest_update_imports_cell) { window._pyforest_update_imports_cell('import numpy as np\\nimport pandas as pd\\nimport matplotlib.pyplot as plt'); }\n",
       "    "
      ],
      "text/plain": [
       "<IPython.core.display.Javascript object>"
      ]
     },
     "metadata": {},
     "output_type": "display_data"
    }
   ],
   "source": [
    "df = pd.read_csv(\"HCLTECH.csv\")"
   ]
  },
  {
   "cell_type": "code",
   "execution_count": 118,
   "metadata": {},
   "outputs": [
    {
     "data": {
      "text/html": [
       "<div>\n",
       "<style scoped>\n",
       "    .dataframe tbody tr th:only-of-type {\n",
       "        vertical-align: middle;\n",
       "    }\n",
       "\n",
       "    .dataframe tbody tr th {\n",
       "        vertical-align: top;\n",
       "    }\n",
       "\n",
       "    .dataframe thead th {\n",
       "        text-align: right;\n",
       "    }\n",
       "</style>\n",
       "<table border=\"1\" class=\"dataframe\">\n",
       "  <thead>\n",
       "    <tr style=\"text-align: right;\">\n",
       "      <th></th>\n",
       "      <th>Date</th>\n",
       "      <th>Symbol</th>\n",
       "      <th>Series</th>\n",
       "      <th>Prev Close</th>\n",
       "      <th>Open</th>\n",
       "      <th>High</th>\n",
       "      <th>Low</th>\n",
       "      <th>Last</th>\n",
       "      <th>Close</th>\n",
       "      <th>VWAP</th>\n",
       "      <th>Volume</th>\n",
       "      <th>Turnover</th>\n",
       "      <th>Trades</th>\n",
       "      <th>Deliverable Volume</th>\n",
       "      <th>%Deliverble</th>\n",
       "    </tr>\n",
       "  </thead>\n",
       "  <tbody>\n",
       "    <tr>\n",
       "      <th>0</th>\n",
       "      <td>2000-01-11</td>\n",
       "      <td>HCLTECH</td>\n",
       "      <td>EQ</td>\n",
       "      <td>580.00</td>\n",
       "      <td>1550.0</td>\n",
       "      <td>1725.00</td>\n",
       "      <td>1492.00</td>\n",
       "      <td>1560.00</td>\n",
       "      <td>1554.45</td>\n",
       "      <td>1582.72</td>\n",
       "      <td>1192200</td>\n",
       "      <td>1.886915e+14</td>\n",
       "      <td>NaN</td>\n",
       "      <td>NaN</td>\n",
       "      <td>NaN</td>\n",
       "    </tr>\n",
       "    <tr>\n",
       "      <th>1</th>\n",
       "      <td>2000-01-12</td>\n",
       "      <td>HCLTECH</td>\n",
       "      <td>EQ</td>\n",
       "      <td>1554.45</td>\n",
       "      <td>1560.0</td>\n",
       "      <td>1678.85</td>\n",
       "      <td>1560.00</td>\n",
       "      <td>1678.85</td>\n",
       "      <td>1678.85</td>\n",
       "      <td>1657.05</td>\n",
       "      <td>344850</td>\n",
       "      <td>5.714349e+13</td>\n",
       "      <td>NaN</td>\n",
       "      <td>NaN</td>\n",
       "      <td>NaN</td>\n",
       "    </tr>\n",
       "    <tr>\n",
       "      <th>2</th>\n",
       "      <td>2000-01-13</td>\n",
       "      <td>HCLTECH</td>\n",
       "      <td>EQ</td>\n",
       "      <td>1678.85</td>\n",
       "      <td>1790.0</td>\n",
       "      <td>1813.20</td>\n",
       "      <td>1781.00</td>\n",
       "      <td>1813.20</td>\n",
       "      <td>1813.20</td>\n",
       "      <td>1804.69</td>\n",
       "      <td>53000</td>\n",
       "      <td>9.564880e+12</td>\n",
       "      <td>NaN</td>\n",
       "      <td>NaN</td>\n",
       "      <td>NaN</td>\n",
       "    </tr>\n",
       "    <tr>\n",
       "      <th>3</th>\n",
       "      <td>2000-01-14</td>\n",
       "      <td>HCLTECH</td>\n",
       "      <td>EQ</td>\n",
       "      <td>1813.20</td>\n",
       "      <td>1958.3</td>\n",
       "      <td>1958.30</td>\n",
       "      <td>1835.00</td>\n",
       "      <td>1958.30</td>\n",
       "      <td>1958.30</td>\n",
       "      <td>1939.90</td>\n",
       "      <td>270950</td>\n",
       "      <td>5.256169e+13</td>\n",
       "      <td>NaN</td>\n",
       "      <td>NaN</td>\n",
       "      <td>NaN</td>\n",
       "    </tr>\n",
       "    <tr>\n",
       "      <th>4</th>\n",
       "      <td>2000-01-17</td>\n",
       "      <td>HCLTECH</td>\n",
       "      <td>EQ</td>\n",
       "      <td>1958.30</td>\n",
       "      <td>2115.0</td>\n",
       "      <td>2115.00</td>\n",
       "      <td>1801.65</td>\n",
       "      <td>1801.65</td>\n",
       "      <td>1801.65</td>\n",
       "      <td>1990.55</td>\n",
       "      <td>428800</td>\n",
       "      <td>8.535473e+13</td>\n",
       "      <td>NaN</td>\n",
       "      <td>NaN</td>\n",
       "      <td>NaN</td>\n",
       "    </tr>\n",
       "    <tr>\n",
       "      <th>...</th>\n",
       "      <td>...</td>\n",
       "      <td>...</td>\n",
       "      <td>...</td>\n",
       "      <td>...</td>\n",
       "      <td>...</td>\n",
       "      <td>...</td>\n",
       "      <td>...</td>\n",
       "      <td>...</td>\n",
       "      <td>...</td>\n",
       "      <td>...</td>\n",
       "      <td>...</td>\n",
       "      <td>...</td>\n",
       "      <td>...</td>\n",
       "      <td>...</td>\n",
       "      <td>...</td>\n",
       "    </tr>\n",
       "    <tr>\n",
       "      <th>5295</th>\n",
       "      <td>2021-04-26</td>\n",
       "      <td>HCLTECH</td>\n",
       "      <td>EQ</td>\n",
       "      <td>955.65</td>\n",
       "      <td>940.0</td>\n",
       "      <td>954.50</td>\n",
       "      <td>923.05</td>\n",
       "      <td>930.00</td>\n",
       "      <td>928.80</td>\n",
       "      <td>931.70</td>\n",
       "      <td>19619972</td>\n",
       "      <td>1.827997e+15</td>\n",
       "      <td>311431.0</td>\n",
       "      <td>9218485.0</td>\n",
       "      <td>0.4699</td>\n",
       "    </tr>\n",
       "    <tr>\n",
       "      <th>5296</th>\n",
       "      <td>2021-04-27</td>\n",
       "      <td>HCLTECH</td>\n",
       "      <td>EQ</td>\n",
       "      <td>928.80</td>\n",
       "      <td>931.0</td>\n",
       "      <td>938.55</td>\n",
       "      <td>923.40</td>\n",
       "      <td>930.30</td>\n",
       "      <td>928.85</td>\n",
       "      <td>928.06</td>\n",
       "      <td>6406825</td>\n",
       "      <td>5.945938e+14</td>\n",
       "      <td>180458.0</td>\n",
       "      <td>3233276.0</td>\n",
       "      <td>0.5047</td>\n",
       "    </tr>\n",
       "    <tr>\n",
       "      <th>5297</th>\n",
       "      <td>2021-04-28</td>\n",
       "      <td>HCLTECH</td>\n",
       "      <td>EQ</td>\n",
       "      <td>928.85</td>\n",
       "      <td>931.2</td>\n",
       "      <td>935.85</td>\n",
       "      <td>921.75</td>\n",
       "      <td>925.90</td>\n",
       "      <td>923.80</td>\n",
       "      <td>926.63</td>\n",
       "      <td>6845677</td>\n",
       "      <td>6.343403e+14</td>\n",
       "      <td>228230.0</td>\n",
       "      <td>3890178.0</td>\n",
       "      <td>0.5683</td>\n",
       "    </tr>\n",
       "    <tr>\n",
       "      <th>5298</th>\n",
       "      <td>2021-04-29</td>\n",
       "      <td>HCLTECH</td>\n",
       "      <td>EQ</td>\n",
       "      <td>923.80</td>\n",
       "      <td>929.7</td>\n",
       "      <td>929.70</td>\n",
       "      <td>907.10</td>\n",
       "      <td>910.30</td>\n",
       "      <td>909.55</td>\n",
       "      <td>914.34</td>\n",
       "      <td>8588734</td>\n",
       "      <td>7.852988e+14</td>\n",
       "      <td>363122.0</td>\n",
       "      <td>4041614.0</td>\n",
       "      <td>0.4706</td>\n",
       "    </tr>\n",
       "    <tr>\n",
       "      <th>5299</th>\n",
       "      <td>2021-04-30</td>\n",
       "      <td>HCLTECH</td>\n",
       "      <td>EQ</td>\n",
       "      <td>909.55</td>\n",
       "      <td>905.0</td>\n",
       "      <td>915.00</td>\n",
       "      <td>895.40</td>\n",
       "      <td>900.10</td>\n",
       "      <td>898.95</td>\n",
       "      <td>904.98</td>\n",
       "      <td>10921664</td>\n",
       "      <td>9.883911e+14</td>\n",
       "      <td>465056.0</td>\n",
       "      <td>6189272.0</td>\n",
       "      <td>0.5667</td>\n",
       "    </tr>\n",
       "  </tbody>\n",
       "</table>\n",
       "<p>5300 rows × 15 columns</p>\n",
       "</div>"
      ],
      "text/plain": [
       "            Date   Symbol Series  Prev Close    Open     High      Low  \\\n",
       "0     2000-01-11  HCLTECH     EQ      580.00  1550.0  1725.00  1492.00   \n",
       "1     2000-01-12  HCLTECH     EQ     1554.45  1560.0  1678.85  1560.00   \n",
       "2     2000-01-13  HCLTECH     EQ     1678.85  1790.0  1813.20  1781.00   \n",
       "3     2000-01-14  HCLTECH     EQ     1813.20  1958.3  1958.30  1835.00   \n",
       "4     2000-01-17  HCLTECH     EQ     1958.30  2115.0  2115.00  1801.65   \n",
       "...          ...      ...    ...         ...     ...      ...      ...   \n",
       "5295  2021-04-26  HCLTECH     EQ      955.65   940.0   954.50   923.05   \n",
       "5296  2021-04-27  HCLTECH     EQ      928.80   931.0   938.55   923.40   \n",
       "5297  2021-04-28  HCLTECH     EQ      928.85   931.2   935.85   921.75   \n",
       "5298  2021-04-29  HCLTECH     EQ      923.80   929.7   929.70   907.10   \n",
       "5299  2021-04-30  HCLTECH     EQ      909.55   905.0   915.00   895.40   \n",
       "\n",
       "         Last    Close     VWAP    Volume      Turnover    Trades  \\\n",
       "0     1560.00  1554.45  1582.72   1192200  1.886915e+14       NaN   \n",
       "1     1678.85  1678.85  1657.05    344850  5.714349e+13       NaN   \n",
       "2     1813.20  1813.20  1804.69     53000  9.564880e+12       NaN   \n",
       "3     1958.30  1958.30  1939.90    270950  5.256169e+13       NaN   \n",
       "4     1801.65  1801.65  1990.55    428800  8.535473e+13       NaN   \n",
       "...       ...      ...      ...       ...           ...       ...   \n",
       "5295   930.00   928.80   931.70  19619972  1.827997e+15  311431.0   \n",
       "5296   930.30   928.85   928.06   6406825  5.945938e+14  180458.0   \n",
       "5297   925.90   923.80   926.63   6845677  6.343403e+14  228230.0   \n",
       "5298   910.30   909.55   914.34   8588734  7.852988e+14  363122.0   \n",
       "5299   900.10   898.95   904.98  10921664  9.883911e+14  465056.0   \n",
       "\n",
       "      Deliverable Volume  %Deliverble  \n",
       "0                    NaN          NaN  \n",
       "1                    NaN          NaN  \n",
       "2                    NaN          NaN  \n",
       "3                    NaN          NaN  \n",
       "4                    NaN          NaN  \n",
       "...                  ...          ...  \n",
       "5295           9218485.0       0.4699  \n",
       "5296           3233276.0       0.5047  \n",
       "5297           3890178.0       0.5683  \n",
       "5298           4041614.0       0.4706  \n",
       "5299           6189272.0       0.5667  \n",
       "\n",
       "[5300 rows x 15 columns]"
      ]
     },
     "execution_count": 118,
     "metadata": {},
     "output_type": "execute_result"
    }
   ],
   "source": [
    "df"
   ]
  },
  {
   "cell_type": "code",
   "execution_count": 119,
   "metadata": {},
   "outputs": [
    {
     "data": {
      "text/plain": [
       "RangeIndex(start=0, stop=5300, step=1)"
      ]
     },
     "execution_count": 119,
     "metadata": {},
     "output_type": "execute_result"
    }
   ],
   "source": [
    "df.index\n"
   ]
  },
  {
   "cell_type": "code",
   "execution_count": 120,
   "metadata": {},
   "outputs": [],
   "source": [
    "df = df[(df['Date'] > '2014-12-31')]"
   ]
  },
  {
   "cell_type": "code",
   "execution_count": 121,
   "metadata": {},
   "outputs": [
    {
     "data": {
      "text/html": [
       "<div>\n",
       "<style scoped>\n",
       "    .dataframe tbody tr th:only-of-type {\n",
       "        vertical-align: middle;\n",
       "    }\n",
       "\n",
       "    .dataframe tbody tr th {\n",
       "        vertical-align: top;\n",
       "    }\n",
       "\n",
       "    .dataframe thead th {\n",
       "        text-align: right;\n",
       "    }\n",
       "</style>\n",
       "<table border=\"1\" class=\"dataframe\">\n",
       "  <thead>\n",
       "    <tr style=\"text-align: right;\">\n",
       "      <th></th>\n",
       "      <th>Date</th>\n",
       "      <th>Symbol</th>\n",
       "      <th>Series</th>\n",
       "      <th>Prev Close</th>\n",
       "      <th>Open</th>\n",
       "      <th>High</th>\n",
       "      <th>Low</th>\n",
       "      <th>Last</th>\n",
       "      <th>Close</th>\n",
       "      <th>VWAP</th>\n",
       "      <th>Volume</th>\n",
       "      <th>Turnover</th>\n",
       "      <th>Trades</th>\n",
       "      <th>Deliverable Volume</th>\n",
       "      <th>%Deliverble</th>\n",
       "    </tr>\n",
       "  </thead>\n",
       "  <tbody>\n",
       "    <tr>\n",
       "      <th>3734</th>\n",
       "      <td>2015-01-01</td>\n",
       "      <td>HCLTECH</td>\n",
       "      <td>EQ</td>\n",
       "      <td>1596.90</td>\n",
       "      <td>1599.00</td>\n",
       "      <td>1611.65</td>\n",
       "      <td>1585.60</td>\n",
       "      <td>1605.50</td>\n",
       "      <td>1606.80</td>\n",
       "      <td>1604.76</td>\n",
       "      <td>334123</td>\n",
       "      <td>5.361862e+13</td>\n",
       "      <td>14239.0</td>\n",
       "      <td>180691.0</td>\n",
       "      <td>0.5408</td>\n",
       "    </tr>\n",
       "    <tr>\n",
       "      <th>3735</th>\n",
       "      <td>2015-01-02</td>\n",
       "      <td>HCLTECH</td>\n",
       "      <td>EQ</td>\n",
       "      <td>1606.80</td>\n",
       "      <td>1602.05</td>\n",
       "      <td>1618.95</td>\n",
       "      <td>1600.05</td>\n",
       "      <td>1607.00</td>\n",
       "      <td>1605.25</td>\n",
       "      <td>1608.73</td>\n",
       "      <td>233343</td>\n",
       "      <td>3.753864e+13</td>\n",
       "      <td>12194.0</td>\n",
       "      <td>127793.0</td>\n",
       "      <td>0.5477</td>\n",
       "    </tr>\n",
       "    <tr>\n",
       "      <th>3736</th>\n",
       "      <td>2015-01-05</td>\n",
       "      <td>HCLTECH</td>\n",
       "      <td>EQ</td>\n",
       "      <td>1605.25</td>\n",
       "      <td>1615.00</td>\n",
       "      <td>1615.00</td>\n",
       "      <td>1568.70</td>\n",
       "      <td>1581.00</td>\n",
       "      <td>1578.25</td>\n",
       "      <td>1586.98</td>\n",
       "      <td>503156</td>\n",
       "      <td>7.985004e+13</td>\n",
       "      <td>28045.0</td>\n",
       "      <td>281694.0</td>\n",
       "      <td>0.5599</td>\n",
       "    </tr>\n",
       "    <tr>\n",
       "      <th>3737</th>\n",
       "      <td>2015-01-06</td>\n",
       "      <td>HCLTECH</td>\n",
       "      <td>EQ</td>\n",
       "      <td>1578.25</td>\n",
       "      <td>1574.00</td>\n",
       "      <td>1574.40</td>\n",
       "      <td>1522.65</td>\n",
       "      <td>1543.05</td>\n",
       "      <td>1536.10</td>\n",
       "      <td>1553.35</td>\n",
       "      <td>867602</td>\n",
       "      <td>1.347688e+14</td>\n",
       "      <td>53920.0</td>\n",
       "      <td>575044.0</td>\n",
       "      <td>0.6628</td>\n",
       "    </tr>\n",
       "    <tr>\n",
       "      <th>3738</th>\n",
       "      <td>2015-01-07</td>\n",
       "      <td>HCLTECH</td>\n",
       "      <td>EQ</td>\n",
       "      <td>1536.10</td>\n",
       "      <td>1539.50</td>\n",
       "      <td>1548.00</td>\n",
       "      <td>1492.70</td>\n",
       "      <td>1500.00</td>\n",
       "      <td>1499.60</td>\n",
       "      <td>1517.47</td>\n",
       "      <td>885140</td>\n",
       "      <td>1.343175e+14</td>\n",
       "      <td>39157.0</td>\n",
       "      <td>534338.0</td>\n",
       "      <td>0.6037</td>\n",
       "    </tr>\n",
       "    <tr>\n",
       "      <th>...</th>\n",
       "      <td>...</td>\n",
       "      <td>...</td>\n",
       "      <td>...</td>\n",
       "      <td>...</td>\n",
       "      <td>...</td>\n",
       "      <td>...</td>\n",
       "      <td>...</td>\n",
       "      <td>...</td>\n",
       "      <td>...</td>\n",
       "      <td>...</td>\n",
       "      <td>...</td>\n",
       "      <td>...</td>\n",
       "      <td>...</td>\n",
       "      <td>...</td>\n",
       "      <td>...</td>\n",
       "    </tr>\n",
       "    <tr>\n",
       "      <th>5295</th>\n",
       "      <td>2021-04-26</td>\n",
       "      <td>HCLTECH</td>\n",
       "      <td>EQ</td>\n",
       "      <td>955.65</td>\n",
       "      <td>940.00</td>\n",
       "      <td>954.50</td>\n",
       "      <td>923.05</td>\n",
       "      <td>930.00</td>\n",
       "      <td>928.80</td>\n",
       "      <td>931.70</td>\n",
       "      <td>19619972</td>\n",
       "      <td>1.827997e+15</td>\n",
       "      <td>311431.0</td>\n",
       "      <td>9218485.0</td>\n",
       "      <td>0.4699</td>\n",
       "    </tr>\n",
       "    <tr>\n",
       "      <th>5296</th>\n",
       "      <td>2021-04-27</td>\n",
       "      <td>HCLTECH</td>\n",
       "      <td>EQ</td>\n",
       "      <td>928.80</td>\n",
       "      <td>931.00</td>\n",
       "      <td>938.55</td>\n",
       "      <td>923.40</td>\n",
       "      <td>930.30</td>\n",
       "      <td>928.85</td>\n",
       "      <td>928.06</td>\n",
       "      <td>6406825</td>\n",
       "      <td>5.945938e+14</td>\n",
       "      <td>180458.0</td>\n",
       "      <td>3233276.0</td>\n",
       "      <td>0.5047</td>\n",
       "    </tr>\n",
       "    <tr>\n",
       "      <th>5297</th>\n",
       "      <td>2021-04-28</td>\n",
       "      <td>HCLTECH</td>\n",
       "      <td>EQ</td>\n",
       "      <td>928.85</td>\n",
       "      <td>931.20</td>\n",
       "      <td>935.85</td>\n",
       "      <td>921.75</td>\n",
       "      <td>925.90</td>\n",
       "      <td>923.80</td>\n",
       "      <td>926.63</td>\n",
       "      <td>6845677</td>\n",
       "      <td>6.343403e+14</td>\n",
       "      <td>228230.0</td>\n",
       "      <td>3890178.0</td>\n",
       "      <td>0.5683</td>\n",
       "    </tr>\n",
       "    <tr>\n",
       "      <th>5298</th>\n",
       "      <td>2021-04-29</td>\n",
       "      <td>HCLTECH</td>\n",
       "      <td>EQ</td>\n",
       "      <td>923.80</td>\n",
       "      <td>929.70</td>\n",
       "      <td>929.70</td>\n",
       "      <td>907.10</td>\n",
       "      <td>910.30</td>\n",
       "      <td>909.55</td>\n",
       "      <td>914.34</td>\n",
       "      <td>8588734</td>\n",
       "      <td>7.852988e+14</td>\n",
       "      <td>363122.0</td>\n",
       "      <td>4041614.0</td>\n",
       "      <td>0.4706</td>\n",
       "    </tr>\n",
       "    <tr>\n",
       "      <th>5299</th>\n",
       "      <td>2021-04-30</td>\n",
       "      <td>HCLTECH</td>\n",
       "      <td>EQ</td>\n",
       "      <td>909.55</td>\n",
       "      <td>905.00</td>\n",
       "      <td>915.00</td>\n",
       "      <td>895.40</td>\n",
       "      <td>900.10</td>\n",
       "      <td>898.95</td>\n",
       "      <td>904.98</td>\n",
       "      <td>10921664</td>\n",
       "      <td>9.883911e+14</td>\n",
       "      <td>465056.0</td>\n",
       "      <td>6189272.0</td>\n",
       "      <td>0.5667</td>\n",
       "    </tr>\n",
       "  </tbody>\n",
       "</table>\n",
       "<p>1566 rows × 15 columns</p>\n",
       "</div>"
      ],
      "text/plain": [
       "            Date   Symbol Series  Prev Close     Open     High      Low  \\\n",
       "3734  2015-01-01  HCLTECH     EQ     1596.90  1599.00  1611.65  1585.60   \n",
       "3735  2015-01-02  HCLTECH     EQ     1606.80  1602.05  1618.95  1600.05   \n",
       "3736  2015-01-05  HCLTECH     EQ     1605.25  1615.00  1615.00  1568.70   \n",
       "3737  2015-01-06  HCLTECH     EQ     1578.25  1574.00  1574.40  1522.65   \n",
       "3738  2015-01-07  HCLTECH     EQ     1536.10  1539.50  1548.00  1492.70   \n",
       "...          ...      ...    ...         ...      ...      ...      ...   \n",
       "5295  2021-04-26  HCLTECH     EQ      955.65   940.00   954.50   923.05   \n",
       "5296  2021-04-27  HCLTECH     EQ      928.80   931.00   938.55   923.40   \n",
       "5297  2021-04-28  HCLTECH     EQ      928.85   931.20   935.85   921.75   \n",
       "5298  2021-04-29  HCLTECH     EQ      923.80   929.70   929.70   907.10   \n",
       "5299  2021-04-30  HCLTECH     EQ      909.55   905.00   915.00   895.40   \n",
       "\n",
       "         Last    Close     VWAP    Volume      Turnover    Trades  \\\n",
       "3734  1605.50  1606.80  1604.76    334123  5.361862e+13   14239.0   \n",
       "3735  1607.00  1605.25  1608.73    233343  3.753864e+13   12194.0   \n",
       "3736  1581.00  1578.25  1586.98    503156  7.985004e+13   28045.0   \n",
       "3737  1543.05  1536.10  1553.35    867602  1.347688e+14   53920.0   \n",
       "3738  1500.00  1499.60  1517.47    885140  1.343175e+14   39157.0   \n",
       "...       ...      ...      ...       ...           ...       ...   \n",
       "5295   930.00   928.80   931.70  19619972  1.827997e+15  311431.0   \n",
       "5296   930.30   928.85   928.06   6406825  5.945938e+14  180458.0   \n",
       "5297   925.90   923.80   926.63   6845677  6.343403e+14  228230.0   \n",
       "5298   910.30   909.55   914.34   8588734  7.852988e+14  363122.0   \n",
       "5299   900.10   898.95   904.98  10921664  9.883911e+14  465056.0   \n",
       "\n",
       "      Deliverable Volume  %Deliverble  \n",
       "3734            180691.0       0.5408  \n",
       "3735            127793.0       0.5477  \n",
       "3736            281694.0       0.5599  \n",
       "3737            575044.0       0.6628  \n",
       "3738            534338.0       0.6037  \n",
       "...                  ...          ...  \n",
       "5295           9218485.0       0.4699  \n",
       "5296           3233276.0       0.5047  \n",
       "5297           3890178.0       0.5683  \n",
       "5298           4041614.0       0.4706  \n",
       "5299           6189272.0       0.5667  \n",
       "\n",
       "[1566 rows x 15 columns]"
      ]
     },
     "execution_count": 121,
     "metadata": {},
     "output_type": "execute_result"
    }
   ],
   "source": [
    "df"
   ]
  },
  {
   "cell_type": "code",
   "execution_count": 122,
   "metadata": {},
   "outputs": [],
   "source": [
    "df1 = df.reset_index()"
   ]
  },
  {
   "cell_type": "code",
   "execution_count": 123,
   "metadata": {},
   "outputs": [
    {
     "data": {
      "text/html": [
       "<div>\n",
       "<style scoped>\n",
       "    .dataframe tbody tr th:only-of-type {\n",
       "        vertical-align: middle;\n",
       "    }\n",
       "\n",
       "    .dataframe tbody tr th {\n",
       "        vertical-align: top;\n",
       "    }\n",
       "\n",
       "    .dataframe thead th {\n",
       "        text-align: right;\n",
       "    }\n",
       "</style>\n",
       "<table border=\"1\" class=\"dataframe\">\n",
       "  <thead>\n",
       "    <tr style=\"text-align: right;\">\n",
       "      <th></th>\n",
       "      <th>index</th>\n",
       "      <th>Date</th>\n",
       "      <th>Symbol</th>\n",
       "      <th>Series</th>\n",
       "      <th>Prev Close</th>\n",
       "      <th>Open</th>\n",
       "      <th>High</th>\n",
       "      <th>Low</th>\n",
       "      <th>Last</th>\n",
       "      <th>Close</th>\n",
       "      <th>VWAP</th>\n",
       "      <th>Volume</th>\n",
       "      <th>Turnover</th>\n",
       "      <th>Trades</th>\n",
       "      <th>Deliverable Volume</th>\n",
       "      <th>%Deliverble</th>\n",
       "    </tr>\n",
       "  </thead>\n",
       "  <tbody>\n",
       "    <tr>\n",
       "      <th>0</th>\n",
       "      <td>3734</td>\n",
       "      <td>2015-01-01</td>\n",
       "      <td>HCLTECH</td>\n",
       "      <td>EQ</td>\n",
       "      <td>1596.90</td>\n",
       "      <td>1599.00</td>\n",
       "      <td>1611.65</td>\n",
       "      <td>1585.60</td>\n",
       "      <td>1605.50</td>\n",
       "      <td>1606.80</td>\n",
       "      <td>1604.76</td>\n",
       "      <td>334123</td>\n",
       "      <td>5.361862e+13</td>\n",
       "      <td>14239.0</td>\n",
       "      <td>180691.0</td>\n",
       "      <td>0.5408</td>\n",
       "    </tr>\n",
       "    <tr>\n",
       "      <th>1</th>\n",
       "      <td>3735</td>\n",
       "      <td>2015-01-02</td>\n",
       "      <td>HCLTECH</td>\n",
       "      <td>EQ</td>\n",
       "      <td>1606.80</td>\n",
       "      <td>1602.05</td>\n",
       "      <td>1618.95</td>\n",
       "      <td>1600.05</td>\n",
       "      <td>1607.00</td>\n",
       "      <td>1605.25</td>\n",
       "      <td>1608.73</td>\n",
       "      <td>233343</td>\n",
       "      <td>3.753864e+13</td>\n",
       "      <td>12194.0</td>\n",
       "      <td>127793.0</td>\n",
       "      <td>0.5477</td>\n",
       "    </tr>\n",
       "    <tr>\n",
       "      <th>2</th>\n",
       "      <td>3736</td>\n",
       "      <td>2015-01-05</td>\n",
       "      <td>HCLTECH</td>\n",
       "      <td>EQ</td>\n",
       "      <td>1605.25</td>\n",
       "      <td>1615.00</td>\n",
       "      <td>1615.00</td>\n",
       "      <td>1568.70</td>\n",
       "      <td>1581.00</td>\n",
       "      <td>1578.25</td>\n",
       "      <td>1586.98</td>\n",
       "      <td>503156</td>\n",
       "      <td>7.985004e+13</td>\n",
       "      <td>28045.0</td>\n",
       "      <td>281694.0</td>\n",
       "      <td>0.5599</td>\n",
       "    </tr>\n",
       "    <tr>\n",
       "      <th>3</th>\n",
       "      <td>3737</td>\n",
       "      <td>2015-01-06</td>\n",
       "      <td>HCLTECH</td>\n",
       "      <td>EQ</td>\n",
       "      <td>1578.25</td>\n",
       "      <td>1574.00</td>\n",
       "      <td>1574.40</td>\n",
       "      <td>1522.65</td>\n",
       "      <td>1543.05</td>\n",
       "      <td>1536.10</td>\n",
       "      <td>1553.35</td>\n",
       "      <td>867602</td>\n",
       "      <td>1.347688e+14</td>\n",
       "      <td>53920.0</td>\n",
       "      <td>575044.0</td>\n",
       "      <td>0.6628</td>\n",
       "    </tr>\n",
       "    <tr>\n",
       "      <th>4</th>\n",
       "      <td>3738</td>\n",
       "      <td>2015-01-07</td>\n",
       "      <td>HCLTECH</td>\n",
       "      <td>EQ</td>\n",
       "      <td>1536.10</td>\n",
       "      <td>1539.50</td>\n",
       "      <td>1548.00</td>\n",
       "      <td>1492.70</td>\n",
       "      <td>1500.00</td>\n",
       "      <td>1499.60</td>\n",
       "      <td>1517.47</td>\n",
       "      <td>885140</td>\n",
       "      <td>1.343175e+14</td>\n",
       "      <td>39157.0</td>\n",
       "      <td>534338.0</td>\n",
       "      <td>0.6037</td>\n",
       "    </tr>\n",
       "    <tr>\n",
       "      <th>...</th>\n",
       "      <td>...</td>\n",
       "      <td>...</td>\n",
       "      <td>...</td>\n",
       "      <td>...</td>\n",
       "      <td>...</td>\n",
       "      <td>...</td>\n",
       "      <td>...</td>\n",
       "      <td>...</td>\n",
       "      <td>...</td>\n",
       "      <td>...</td>\n",
       "      <td>...</td>\n",
       "      <td>...</td>\n",
       "      <td>...</td>\n",
       "      <td>...</td>\n",
       "      <td>...</td>\n",
       "      <td>...</td>\n",
       "    </tr>\n",
       "    <tr>\n",
       "      <th>1561</th>\n",
       "      <td>5295</td>\n",
       "      <td>2021-04-26</td>\n",
       "      <td>HCLTECH</td>\n",
       "      <td>EQ</td>\n",
       "      <td>955.65</td>\n",
       "      <td>940.00</td>\n",
       "      <td>954.50</td>\n",
       "      <td>923.05</td>\n",
       "      <td>930.00</td>\n",
       "      <td>928.80</td>\n",
       "      <td>931.70</td>\n",
       "      <td>19619972</td>\n",
       "      <td>1.827997e+15</td>\n",
       "      <td>311431.0</td>\n",
       "      <td>9218485.0</td>\n",
       "      <td>0.4699</td>\n",
       "    </tr>\n",
       "    <tr>\n",
       "      <th>1562</th>\n",
       "      <td>5296</td>\n",
       "      <td>2021-04-27</td>\n",
       "      <td>HCLTECH</td>\n",
       "      <td>EQ</td>\n",
       "      <td>928.80</td>\n",
       "      <td>931.00</td>\n",
       "      <td>938.55</td>\n",
       "      <td>923.40</td>\n",
       "      <td>930.30</td>\n",
       "      <td>928.85</td>\n",
       "      <td>928.06</td>\n",
       "      <td>6406825</td>\n",
       "      <td>5.945938e+14</td>\n",
       "      <td>180458.0</td>\n",
       "      <td>3233276.0</td>\n",
       "      <td>0.5047</td>\n",
       "    </tr>\n",
       "    <tr>\n",
       "      <th>1563</th>\n",
       "      <td>5297</td>\n",
       "      <td>2021-04-28</td>\n",
       "      <td>HCLTECH</td>\n",
       "      <td>EQ</td>\n",
       "      <td>928.85</td>\n",
       "      <td>931.20</td>\n",
       "      <td>935.85</td>\n",
       "      <td>921.75</td>\n",
       "      <td>925.90</td>\n",
       "      <td>923.80</td>\n",
       "      <td>926.63</td>\n",
       "      <td>6845677</td>\n",
       "      <td>6.343403e+14</td>\n",
       "      <td>228230.0</td>\n",
       "      <td>3890178.0</td>\n",
       "      <td>0.5683</td>\n",
       "    </tr>\n",
       "    <tr>\n",
       "      <th>1564</th>\n",
       "      <td>5298</td>\n",
       "      <td>2021-04-29</td>\n",
       "      <td>HCLTECH</td>\n",
       "      <td>EQ</td>\n",
       "      <td>923.80</td>\n",
       "      <td>929.70</td>\n",
       "      <td>929.70</td>\n",
       "      <td>907.10</td>\n",
       "      <td>910.30</td>\n",
       "      <td>909.55</td>\n",
       "      <td>914.34</td>\n",
       "      <td>8588734</td>\n",
       "      <td>7.852988e+14</td>\n",
       "      <td>363122.0</td>\n",
       "      <td>4041614.0</td>\n",
       "      <td>0.4706</td>\n",
       "    </tr>\n",
       "    <tr>\n",
       "      <th>1565</th>\n",
       "      <td>5299</td>\n",
       "      <td>2021-04-30</td>\n",
       "      <td>HCLTECH</td>\n",
       "      <td>EQ</td>\n",
       "      <td>909.55</td>\n",
       "      <td>905.00</td>\n",
       "      <td>915.00</td>\n",
       "      <td>895.40</td>\n",
       "      <td>900.10</td>\n",
       "      <td>898.95</td>\n",
       "      <td>904.98</td>\n",
       "      <td>10921664</td>\n",
       "      <td>9.883911e+14</td>\n",
       "      <td>465056.0</td>\n",
       "      <td>6189272.0</td>\n",
       "      <td>0.5667</td>\n",
       "    </tr>\n",
       "  </tbody>\n",
       "</table>\n",
       "<p>1566 rows × 16 columns</p>\n",
       "</div>"
      ],
      "text/plain": [
       "      index        Date   Symbol Series  Prev Close     Open     High  \\\n",
       "0      3734  2015-01-01  HCLTECH     EQ     1596.90  1599.00  1611.65   \n",
       "1      3735  2015-01-02  HCLTECH     EQ     1606.80  1602.05  1618.95   \n",
       "2      3736  2015-01-05  HCLTECH     EQ     1605.25  1615.00  1615.00   \n",
       "3      3737  2015-01-06  HCLTECH     EQ     1578.25  1574.00  1574.40   \n",
       "4      3738  2015-01-07  HCLTECH     EQ     1536.10  1539.50  1548.00   \n",
       "...     ...         ...      ...    ...         ...      ...      ...   \n",
       "1561   5295  2021-04-26  HCLTECH     EQ      955.65   940.00   954.50   \n",
       "1562   5296  2021-04-27  HCLTECH     EQ      928.80   931.00   938.55   \n",
       "1563   5297  2021-04-28  HCLTECH     EQ      928.85   931.20   935.85   \n",
       "1564   5298  2021-04-29  HCLTECH     EQ      923.80   929.70   929.70   \n",
       "1565   5299  2021-04-30  HCLTECH     EQ      909.55   905.00   915.00   \n",
       "\n",
       "          Low     Last    Close     VWAP    Volume      Turnover    Trades  \\\n",
       "0     1585.60  1605.50  1606.80  1604.76    334123  5.361862e+13   14239.0   \n",
       "1     1600.05  1607.00  1605.25  1608.73    233343  3.753864e+13   12194.0   \n",
       "2     1568.70  1581.00  1578.25  1586.98    503156  7.985004e+13   28045.0   \n",
       "3     1522.65  1543.05  1536.10  1553.35    867602  1.347688e+14   53920.0   \n",
       "4     1492.70  1500.00  1499.60  1517.47    885140  1.343175e+14   39157.0   \n",
       "...       ...      ...      ...      ...       ...           ...       ...   \n",
       "1561   923.05   930.00   928.80   931.70  19619972  1.827997e+15  311431.0   \n",
       "1562   923.40   930.30   928.85   928.06   6406825  5.945938e+14  180458.0   \n",
       "1563   921.75   925.90   923.80   926.63   6845677  6.343403e+14  228230.0   \n",
       "1564   907.10   910.30   909.55   914.34   8588734  7.852988e+14  363122.0   \n",
       "1565   895.40   900.10   898.95   904.98  10921664  9.883911e+14  465056.0   \n",
       "\n",
       "      Deliverable Volume  %Deliverble  \n",
       "0               180691.0       0.5408  \n",
       "1               127793.0       0.5477  \n",
       "2               281694.0       0.5599  \n",
       "3               575044.0       0.6628  \n",
       "4               534338.0       0.6037  \n",
       "...                  ...          ...  \n",
       "1561           9218485.0       0.4699  \n",
       "1562           3233276.0       0.5047  \n",
       "1563           3890178.0       0.5683  \n",
       "1564           4041614.0       0.4706  \n",
       "1565           6189272.0       0.5667  \n",
       "\n",
       "[1566 rows x 16 columns]"
      ]
     },
     "execution_count": 123,
     "metadata": {},
     "output_type": "execute_result"
    }
   ],
   "source": [
    "df1"
   ]
  },
  {
   "cell_type": "code",
   "execution_count": 124,
   "metadata": {},
   "outputs": [
    {
     "data": {
      "application/javascript": [
       "\n",
       "        if (window._pyforest_update_imports_cell) { window._pyforest_update_imports_cell('import numpy as np\\nimport pandas as pd\\nimport matplotlib.pyplot as plt'); }\n",
       "    "
      ],
      "text/plain": [
       "<IPython.core.display.Javascript object>"
      ]
     },
     "metadata": {},
     "output_type": "display_data"
    },
    {
     "data": {
      "text/plain": [
       "[<matplotlib.lines.Line2D at 0x7fcf99e08370>]"
      ]
     },
     "execution_count": 124,
     "metadata": {},
     "output_type": "execute_result"
    },
    {
     "data": {
      "image/png": "[encoded data removed]",
      "text/plain": [
       "<Figure size 432x288 with 1 Axes>"
      ]
     },
     "metadata": {
      "needs_background": "light"
     },
     "output_type": "display_data"
    }
   ],
   "source": [
    "plt.plot(df1['Close'])"
   ]
  },
  {
   "cell_type": "code",
   "execution_count": 125,
   "metadata": {},
   "outputs": [
    {
     "data": {
      "application/javascript": [
       "\n",
       "        if (window._pyforest_update_imports_cell) { window._pyforest_update_imports_cell('import numpy as np\\nimport pandas as pd\\nimport matplotlib.pyplot as plt'); }\n",
       "    "
      ],
      "text/plain": [
       "<IPython.core.display.Javascript object>"
      ]
     },
     "metadata": {},
     "output_type": "display_data"
    },
    {
     "data": {
      "text/plain": [
       "[<matplotlib.lines.Line2D at 0x7fcf9973d8b0>]"
      ]
     },
     "execution_count": 125,
     "metadata": {},
     "output_type": "execute_result"
    },
    {
     "data": {
      "image/png": "[encoded data removed]",
      "text/plain": [
       "<Figure size 432x288 with 1 Axes>"
      ]
     },
     "metadata": {
      "needs_background": "light"
     },
     "output_type": "display_data"
    }
   ],
   "source": [
    "plt.plot(df1['VWAP'])"
   ]
  },
  {
   "cell_type": "code",
   "execution_count": 126,
   "metadata": {},
   "outputs": [],
   "source": [
    "df1 = df1['VWAP']"
   ]
  },
  {
   "cell_type": "code",
   "execution_count": 127,
   "metadata": {},
   "outputs": [
    {
     "data": {
      "text/plain": [
       "0       1604.76\n",
       "1       1608.73\n",
       "2       1586.98\n",
       "3       1553.35\n",
       "4       1517.47\n",
       "         ...   \n",
       "1561     931.70\n",
       "1562     928.06\n",
       "1563     926.63\n",
       "1564     914.34\n",
       "1565     904.98\n",
       "Name: VWAP, Length: 1566, dtype: float64"
      ]
     },
     "execution_count": 127,
     "metadata": {},
     "output_type": "execute_result"
    }
   ],
   "source": [
    "df1"
   ]
  },
  {
   "cell_type": "code",
   "execution_count": 128,
   "metadata": {},
   "outputs": [
    {
     "data": {
      "application/javascript": [
       "\n",
       "        if (window._pyforest_update_imports_cell) { window._pyforest_update_imports_cell('import numpy as np\\nimport pandas as pd\\nimport matplotlib.pyplot as plt'); }\n",
       "    "
      ],
      "text/plain": [
       "<IPython.core.display.Javascript object>"
      ]
     },
     "metadata": {},
     "output_type": "display_data"
    }
   ],
   "source": [
    "from sklearn.preprocessing import MinMaxScaler\n",
    "scaler=MinMaxScaler(feature_range=(0,1))\n",
    "df1=scaler.fit_transform(np.array(df1).reshape(-1,1))"
   ]
  },
  {
   "cell_type": "code",
   "execution_count": 129,
   "metadata": {},
   "outputs": [
    {
     "data": {
      "text/plain": [
       "array([[0.71168799],\n",
       "       [0.71405879],\n",
       "       [0.70107014],\n",
       "       ...,\n",
       "       [0.30672304],\n",
       "       [0.29938371],\n",
       "       [0.29379412]])"
      ]
     },
     "execution_count": 129,
     "metadata": {},
     "output_type": "execute_result"
    }
   ],
   "source": [
    "df1"
   ]
  },
  {
   "cell_type": "code",
   "execution_count": 130,
   "metadata": {},
   "outputs": [],
   "source": [
    "training_size=int(len(df1)*0.70)\n",
    "test_size=len(df1)-training_size\n",
    "train_data,test_data=df1[0:training_size,:],df1[training_size:len(df1),:1]"
   ]
  },
  {
   "cell_type": "code",
   "execution_count": 131,
   "metadata": {},
   "outputs": [
    {
     "data": {
      "text/plain": [
       "(1096, 470)"
      ]
     },
     "execution_count": 131,
     "metadata": {},
     "output_type": "execute_result"
    }
   ],
   "source": [
    "training_size,test_size"
   ]
  },
  {
   "cell_type": "code",
   "execution_count": 132,
   "metadata": {},
   "outputs": [],
   "source": [
    "import numpy\n",
    "# convert an array of values into a dataset matrix\n",
    "def create_dataset(dataset, time_step=1):\n",
    "    dataX, dataY = [], []\n",
    "    for i in range(len(dataset)-time_step-1):\n",
    "        a = dataset[i:(i+time_step), 0]###i=0, 0,1,2,3-----99   100 \n",
    "        \n",
    "        dataX.append(a)\n",
    "        dataY.append(dataset[i + time_step, 0])\n",
    "    return numpy.array(dataX), numpy.array(dataY)"
   ]
  },
  {
   "cell_type": "code",
   "execution_count": 133,
   "metadata": {},
   "outputs": [],
   "source": [
    "time_step = 100\n",
    "X_train, y_train = create_dataset(train_data, time_step)\n",
    "X_test, ytest = create_dataset(test_data, time_step)"
   ]
  },
  {
   "cell_type": "code",
   "execution_count": 134,
   "metadata": {},
   "outputs": [
    {
     "data": {
      "text/plain": [
       "(100,)"
      ]
     },
     "execution_count": 134,
     "metadata": {},
     "output_type": "execute_result"
    }
   ],
   "source": [
    "X_train[0].shape"
   ]
  },
  {
   "cell_type": "code",
   "execution_count": 135,
   "metadata": {},
   "outputs": [
    {
     "data": {
      "text/plain": [
       "(995, 100)"
      ]
     },
     "execution_count": 135,
     "metadata": {},
     "output_type": "execute_result"
    }
   ],
   "source": [
    "X_train.shape"
   ]
  },
  {
   "cell_type": "code",
   "execution_count": 136,
   "metadata": {},
   "outputs": [],
   "source": [
    "X_train =X_train.reshape(X_train.shape[0],X_train.shape[1] , 1)\n",
    "X_test = X_test.reshape(X_test.shape[0],X_test.shape[1] , 1)"
   ]
  },
  {
   "cell_type": "code",
   "execution_count": 137,
   "metadata": {},
   "outputs": [],
   "source": [
    "from tensorflow.keras.models import Sequential\n",
    "from tensorflow.keras.layers import Dense\n",
    "from tensorflow.keras.layers import LSTM\n",
    "from tensorflow.keras.layers import Dropout"
   ]
  },
  {
   "cell_type": "code",
   "execution_count": 138,
   "metadata": {},
   "outputs": [],
   "source": [
    "model=Sequential()\n",
    "model.add(LSTM(50,return_sequences=True,input_shape=(100,1)))\n",
    "model.add(Dropout(0.2))\n",
    "model.add(LSTM(50,return_sequences=True))\n",
    "model.add(Dropout(0.2))\n",
    "model.add(LSTM(50))\n",
    "model.add(Dense(1))\n",
    "model.compile(loss='mean_squared_error',optimizer='adam')"
   ]
  },
  {
   "cell_type": "code",
   "execution_count": 139,
   "metadata": {},
   "outputs": [
    {
     "name": "stdout",
     "output_type": "stream",
     "text": [
      "Model: \"sequential_3\"\n",
      "_________________________________________________________________\n",
      "Layer (type)                 Output Shape              Param #   \n",
      "=================================================================\n",
      "lstm_7 (LSTM)                (None, 100, 50)           10400     \n",
      "_________________________________________________________________\n",
      "dropout_2 (Dropout)          (None, 100, 50)           0         \n",
      "_________________________________________________________________\n",
      "lstm_8 (LSTM)                (None, 100, 50)           20200     \n",
      "_________________________________________________________________\n",
      "dropout_3 (Dropout)          (None, 100, 50)           0         \n",
      "_________________________________________________________________\n",
      "lstm_9 (LSTM)                (None, 50)                20200     \n",
      "_________________________________________________________________\n",
      "dense_2 (Dense)              (None, 1)                 51        \n",
      "=================================================================\n",
      "Total params: 50,851\n",
      "Trainable params: 50,851\n",
      "Non-trainable params: 0\n",
      "_________________________________________________________________\n"
     ]
    }
   ],
   "source": [
    "model.summary()"
   ]
  },
  {
   "cell_type": "code",
   "execution_count": 140,
   "metadata": {},
   "outputs": [
    {
     "name": "stdout",
     "output_type": "stream",
     "text": [
      "Epoch 1/100\n",
      "16/16 [==============================] - 9s 211ms/step - loss: 0.0459 - val_loss: 0.0067\n",
      "Epoch 2/100\n",
      "16/16 [==============================] - 2s 154ms/step - loss: 0.0035 - val_loss: 0.0084\n",
      "Epoch 3/100\n",
      "16/16 [==============================] - 2s 157ms/step - loss: 0.0014 - val_loss: 0.0080\n",
      "Epoch 4/100\n",
      "16/16 [==============================] - 3s 159ms/step - loss: 0.0011 - val_loss: 0.0070\n",
      "Epoch 5/100\n",
      "16/16 [==============================] - 3s 161ms/step - loss: 0.0011 - val_loss: 0.0058\n",
      "Epoch 6/100\n",
      "16/16 [==============================] - 3s 163ms/step - loss: 8.1826e-04 - val_loss: 0.0049\n",
      "Epoch 7/100\n",
      "16/16 [==============================] - 3s 166ms/step - loss: 7.2642e-04 - val_loss: 0.0040\n",
      "Epoch 8/100\n",
      "16/16 [==============================] - 3s 167ms/step - loss: 5.8487e-04 - val_loss: 0.0034\n",
      "Epoch 9/100\n",
      "16/16 [==============================] - 3s 170ms/step - loss: 6.4277e-04 - val_loss: 0.0036\n",
      "Epoch 10/100\n",
      "16/16 [==============================] - 3s 168ms/step - loss: 5.5356e-04 - val_loss: 0.0032\n",
      "Epoch 11/100\n",
      "16/16 [==============================] - 3s 171ms/step - loss: 5.6640e-04 - val_loss: 0.0033\n",
      "Epoch 12/100\n",
      "16/16 [==============================] - 3s 172ms/step - loss: 5.5360e-04 - val_loss: 0.0036\n",
      "Epoch 13/100\n",
      "16/16 [==============================] - 3s 175ms/step - loss: 5.4012e-04 - val_loss: 0.0033\n",
      "Epoch 14/100\n",
      "16/16 [==============================] - 3s 174ms/step - loss: 5.3940e-04 - val_loss: 0.0032\n",
      "Epoch 15/100\n",
      "16/16 [==============================] - 3s 175ms/step - loss: 5.3071e-04 - val_loss: 0.0034\n",
      "Epoch 16/100\n",
      "16/16 [==============================] - 3s 176ms/step - loss: 5.1110e-04 - val_loss: 0.0032\n",
      "Epoch 17/100\n",
      "16/16 [==============================] - 3s 177ms/step - loss: 4.8160e-04 - val_loss: 0.0031\n",
      "Epoch 18/100\n",
      "16/16 [==============================] - 3s 177ms/step - loss: 4.9566e-04 - val_loss: 0.0031\n",
      "Epoch 19/100\n",
      "16/16 [==============================] - 3s 179ms/step - loss: 4.8867e-04 - val_loss: 0.0030\n",
      "Epoch 20/100\n",
      "16/16 [==============================] - 3s 179ms/step - loss: 5.8056e-04 - val_loss: 0.0029\n",
      "Epoch 21/100\n",
      "16/16 [==============================] - 3s 179ms/step - loss: 5.5191e-04 - val_loss: 0.0029\n",
      "Epoch 22/100\n",
      "16/16 [==============================] - 3s 181ms/step - loss: 5.1044e-04 - val_loss: 0.0029\n",
      "Epoch 23/100\n",
      "16/16 [==============================] - 3s 180ms/step - loss: 4.5716e-04 - val_loss: 0.0030\n",
      "Epoch 24/100\n",
      "16/16 [==============================] - 3s 182ms/step - loss: 4.6980e-04 - val_loss: 0.0028\n",
      "Epoch 25/100\n",
      "16/16 [==============================] - 3s 181ms/step - loss: 4.2648e-04 - val_loss: 0.0028\n",
      "Epoch 26/100\n",
      "16/16 [==============================] - 3s 183ms/step - loss: 4.6671e-04 - val_loss: 0.0030\n",
      "Epoch 27/100\n",
      "16/16 [==============================] - 3s 182ms/step - loss: 4.6889e-04 - val_loss: 0.0029\n",
      "Epoch 28/100\n",
      "16/16 [==============================] - 3s 183ms/step - loss: 4.4751e-04 - val_loss: 0.0027\n",
      "Epoch 29/100\n",
      "16/16 [==============================] - 3s 182ms/step - loss: 4.1759e-04 - val_loss: 0.0027\n",
      "Epoch 30/100\n",
      "16/16 [==============================] - 3s 210ms/step - loss: 4.7441e-04 - val_loss: 0.0028\n",
      "Epoch 31/100\n",
      "16/16 [==============================] - 3s 190ms/step - loss: 5.0300e-04 - val_loss: 0.0027\n",
      "Epoch 32/100\n",
      "16/16 [==============================] - 3s 183ms/step - loss: 4.4247e-04 - val_loss: 0.0025\n",
      "Epoch 33/100\n",
      "16/16 [==============================] - 3s 184ms/step - loss: 4.9162e-04 - val_loss: 0.0030\n",
      "Epoch 34/100\n",
      "16/16 [==============================] - 3s 183ms/step - loss: 5.6066e-04 - val_loss: 0.0026\n",
      "Epoch 35/100\n",
      "16/16 [==============================] - 3s 183ms/step - loss: 4.5899e-04 - val_loss: 0.0025\n",
      "Epoch 36/100\n",
      "16/16 [==============================] - 3s 185ms/step - loss: 4.2949e-04 - val_loss: 0.0024\n",
      "Epoch 37/100\n",
      "16/16 [==============================] - 3s 184ms/step - loss: 4.9201e-04 - val_loss: 0.0024\n",
      "Epoch 38/100\n",
      "16/16 [==============================] - 3s 184ms/step - loss: 4.4461e-04 - val_loss: 0.0024\n",
      "Epoch 39/100\n",
      "16/16 [==============================] - 3s 186ms/step - loss: 4.2793e-04 - val_loss: 0.0024\n",
      "Epoch 40/100\n",
      "16/16 [==============================] - 3s 184ms/step - loss: 4.1838e-04 - val_loss: 0.0023\n",
      "Epoch 41/100\n",
      "16/16 [==============================] - 3s 184ms/step - loss: 4.3077e-04 - val_loss: 0.0023\n",
      "Epoch 42/100\n",
      "16/16 [==============================] - 3s 184ms/step - loss: 4.1951e-04 - val_loss: 0.0024\n",
      "Epoch 43/100\n",
      "16/16 [==============================] - 3s 186ms/step - loss: 4.3685e-04 - val_loss: 0.0023\n",
      "Epoch 44/100\n",
      "16/16 [==============================] - 3s 184ms/step - loss: 4.1043e-04 - val_loss: 0.0023\n",
      "Epoch 45/100\n",
      "16/16 [==============================] - 3s 184ms/step - loss: 3.4503e-04 - val_loss: 0.0022\n",
      "Epoch 46/100\n",
      "16/16 [==============================] - 3s 185ms/step - loss: 3.8354e-04 - val_loss: 0.0022\n",
      "Epoch 47/100\n",
      "16/16 [==============================] - 3s 186ms/step - loss: 3.7161e-04 - val_loss: 0.0021\n",
      "Epoch 48/100\n",
      "16/16 [==============================] - 3s 186ms/step - loss: 4.3026e-04 - val_loss: 0.0021\n",
      "Epoch 49/100\n",
      "16/16 [==============================] - 3s 186ms/step - loss: 3.4986e-04 - val_loss: 0.0020\n",
      "Epoch 50/100\n",
      "16/16 [==============================] - 3s 185ms/step - loss: 4.2257e-04 - val_loss: 0.0020\n",
      "Epoch 51/100\n",
      "16/16 [==============================] - 3s 187ms/step - loss: 4.5924e-04 - val_loss: 0.0020\n",
      "Epoch 52/100\n",
      "16/16 [==============================] - 3s 187ms/step - loss: 4.6267e-04 - val_loss: 0.0020\n",
      "Epoch 53/100\n",
      "16/16 [==============================] - 3s 187ms/step - loss: 3.6313e-04 - val_loss: 0.0020\n",
      "Epoch 54/100\n",
      "16/16 [==============================] - 3s 191ms/step - loss: 3.4840e-04 - val_loss: 0.0019\n",
      "Epoch 55/100\n",
      "16/16 [==============================] - 3s 185ms/step - loss: 3.5764e-04 - val_loss: 0.0019\n",
      "Epoch 56/100\n",
      "16/16 [==============================] - 3s 195ms/step - loss: 3.3540e-04 - val_loss: 0.0020\n",
      "Epoch 57/100\n",
      "16/16 [==============================] - 4s 228ms/step - loss: 3.4757e-04 - val_loss: 0.0020\n",
      "Epoch 58/100\n",
      "16/16 [==============================] - 3s 184ms/step - loss: 3.9833e-04 - val_loss: 0.0019\n",
      "Epoch 59/100\n",
      "16/16 [==============================] - 3s 184ms/step - loss: 3.3683e-04 - val_loss: 0.0019\n",
      "Epoch 60/100\n",
      "16/16 [==============================] - 3s 183ms/step - loss: 3.2252e-04 - val_loss: 0.0018\n",
      "Epoch 61/100\n",
      "16/16 [==============================] - 3s 182ms/step - loss: 2.8940e-04 - val_loss: 0.0018\n",
      "Epoch 62/100\n",
      "16/16 [==============================] - 3s 182ms/step - loss: 2.9624e-04 - val_loss: 0.0018\n",
      "Epoch 63/100\n",
      "16/16 [==============================] - 3s 184ms/step - loss: 2.5924e-04 - val_loss: 0.0018\n",
      "Epoch 64/100\n",
      "16/16 [==============================] - 3s 184ms/step - loss: 3.0748e-04 - val_loss: 0.0018\n",
      "Epoch 65/100\n",
      "16/16 [==============================] - 3s 182ms/step - loss: 3.6770e-04 - val_loss: 0.0017\n",
      "Epoch 66/100\n",
      "16/16 [==============================] - 3s 184ms/step - loss: 3.0845e-04 - val_loss: 0.0017\n",
      "Epoch 67/100\n",
      "16/16 [==============================] - 3s 185ms/step - loss: 2.8446e-04 - val_loss: 0.0018\n",
      "Epoch 68/100\n",
      "16/16 [==============================] - 3s 185ms/step - loss: 2.9430e-04 - val_loss: 0.0016\n",
      "Epoch 69/100\n",
      "16/16 [==============================] - 3s 184ms/step - loss: 4.1267e-04 - val_loss: 0.0016\n",
      "Epoch 70/100\n",
      "16/16 [==============================] - 3s 183ms/step - loss: 3.4008e-04 - val_loss: 0.0016\n",
      "Epoch 71/100\n",
      "16/16 [==============================] - 3s 184ms/step - loss: 3.0620e-04 - val_loss: 0.0016\n",
      "Epoch 72/100\n",
      "16/16 [==============================] - 3s 191ms/step - loss: 3.0371e-04 - val_loss: 0.0016\n",
      "Epoch 73/100\n",
      "16/16 [==============================] - 3s 186ms/step - loss: 3.2999e-04 - val_loss: 0.0016\n",
      "Epoch 74/100\n",
      "16/16 [==============================] - 3s 184ms/step - loss: 3.1439e-04 - val_loss: 0.0016\n",
      "Epoch 75/100\n",
      "16/16 [==============================] - 3s 182ms/step - loss: 2.9583e-04 - val_loss: 0.0016\n",
      "Epoch 76/100\n",
      "16/16 [==============================] - 3s 184ms/step - loss: 2.6079e-04 - val_loss: 0.0016\n",
      "Epoch 77/100\n",
      "16/16 [==============================] - 3s 184ms/step - loss: 2.5552e-04 - val_loss: 0.0016\n",
      "Epoch 78/100\n"
     ]
    },
    {
     "name": "stdout",
     "output_type": "stream",
     "text": [
      "16/16 [==============================] - 3s 178ms/step - loss: 3.0525e-04 - val_loss: 0.0015\n",
      "Epoch 79/100\n",
      "16/16 [==============================] - 3s 177ms/step - loss: 2.9137e-04 - val_loss: 0.0015\n",
      "Epoch 80/100\n",
      "16/16 [==============================] - 3s 176ms/step - loss: 2.5719e-04 - val_loss: 0.0015\n",
      "Epoch 81/100\n",
      "16/16 [==============================] - 3s 176ms/step - loss: 2.2872e-04 - val_loss: 0.0015\n",
      "Epoch 82/100\n",
      "16/16 [==============================] - 3s 177ms/step - loss: 2.4173e-04 - val_loss: 0.0015\n",
      "Epoch 83/100\n",
      "16/16 [==============================] - 3s 176ms/step - loss: 2.8932e-04 - val_loss: 0.0015\n",
      "Epoch 84/100\n",
      "16/16 [==============================] - 3s 178ms/step - loss: 2.8469e-04 - val_loss: 0.0014\n",
      "Epoch 85/100\n",
      "16/16 [==============================] - 4s 231ms/step - loss: 2.6488e-04 - val_loss: 0.0015\n",
      "Epoch 86/100\n",
      "16/16 [==============================] - 3s 189ms/step - loss: 2.1185e-04 - val_loss: 0.0015\n",
      "Epoch 87/100\n",
      "16/16 [==============================] - 3s 186ms/step - loss: 2.4081e-04 - val_loss: 0.0015\n",
      "Epoch 88/100\n",
      "16/16 [==============================] - 3s 206ms/step - loss: 2.2639e-04 - val_loss: 0.0015\n",
      "Epoch 89/100\n",
      "16/16 [==============================] - 3s 191ms/step - loss: 2.4833e-04 - val_loss: 0.0014\n",
      "Epoch 90/100\n",
      "16/16 [==============================] - 3s 200ms/step - loss: 2.4585e-04 - val_loss: 0.0014\n",
      "Epoch 91/100\n",
      "16/16 [==============================] - 3s 209ms/step - loss: 2.3628e-04 - val_loss: 0.0014\n",
      "Epoch 92/100\n",
      "16/16 [==============================] - 3s 214ms/step - loss: 2.4955e-04 - val_loss: 0.0014\n",
      "Epoch 93/100\n",
      "16/16 [==============================] - 3s 182ms/step - loss: 2.6782e-04 - val_loss: 0.0014\n",
      "Epoch 94/100\n",
      "16/16 [==============================] - 4s 236ms/step - loss: 2.2507e-04 - val_loss: 0.0014\n",
      "Epoch 95/100\n",
      "16/16 [==============================] - 4s 253ms/step - loss: 2.0245e-04 - val_loss: 0.0013\n",
      "Epoch 96/100\n",
      "16/16 [==============================] - 4s 219ms/step - loss: 1.9407e-04 - val_loss: 0.0013\n",
      "Epoch 97/100\n",
      "16/16 [==============================] - 4s 235ms/step - loss: 2.3590e-04 - val_loss: 0.0013\n",
      "Epoch 98/100\n",
      "16/16 [==============================] - 4s 238ms/step - loss: 2.0410e-04 - val_loss: 0.0013\n",
      "Epoch 99/100\n",
      "16/16 [==============================] - 3s 197ms/step - loss: 2.2587e-04 - val_loss: 0.0013\n",
      "Epoch 100/100\n",
      "16/16 [==============================] - 3s 199ms/step - loss: 2.4409e-04 - val_loss: 0.0013\n"
     ]
    }
   ],
   "source": [
    "model_history = model.fit(X_train,y_train,validation_data=(X_test,ytest),epochs=100,batch_size=64,verbose=1)"
   ]
  },
  {
   "cell_type": "code",
   "execution_count": 141,
   "metadata": {},
   "outputs": [
    {
     "data": {
      "application/javascript": [
       "\n",
       "        if (window._pyforest_update_imports_cell) { window._pyforest_update_imports_cell('import numpy as np\\nimport pandas as pd\\nimport matplotlib.pyplot as plt'); }\n",
       "    "
      ],
      "text/plain": [
       "<IPython.core.display.Javascript object>"
      ]
     },
     "metadata": {},
     "output_type": "display_data"
    },
    {
     "data": {
      "application/javascript": [
       "\n",
       "        if (window._pyforest_update_imports_cell) { window._pyforest_update_imports_cell('import numpy as np\\nimport pandas as pd\\nimport matplotlib.pyplot as plt'); }\n",
       "    "
      ],
      "text/plain": [
       "<IPython.core.display.Javascript object>"
      ]
     },
     "metadata": {},
     "output_type": "display_data"
    },
    {
     "data": {
      "application/javascript": [
       "\n",
       "        if (window._pyforest_update_imports_cell) { window._pyforest_update_imports_cell('import numpy as np\\nimport pandas as pd\\nimport matplotlib.pyplot as plt'); }\n",
       "    "
      ],
      "text/plain": [
       "<IPython.core.display.Javascript object>"
      ]
     },
     "metadata": {},
     "output_type": "display_data"
    },
    {
     "data": {
      "application/javascript": [
       "\n",
       "        if (window._pyforest_update_imports_cell) { window._pyforest_update_imports_cell('import numpy as np\\nimport pandas as pd\\nimport matplotlib.pyplot as plt'); }\n",
       "    "
      ],
      "text/plain": [
       "<IPython.core.display.Javascript object>"
      ]
     },
     "metadata": {},
     "output_type": "display_data"
    },
    {
     "data": {
      "application/javascript": [
       "\n",
       "        if (window._pyforest_update_imports_cell) { window._pyforest_update_imports_cell('import numpy as np\\nimport pandas as pd\\nimport matplotlib.pyplot as plt'); }\n",
       "    "
      ],
      "text/plain": [
       "<IPython.core.display.Javascript object>"
      ]
     },
     "metadata": {},
     "output_type": "display_data"
    },
    {
     "data": {
      "application/javascript": [
       "\n",
       "        if (window._pyforest_update_imports_cell) { window._pyforest_update_imports_cell('import numpy as np\\nimport pandas as pd\\nimport matplotlib.pyplot as plt'); }\n",
       "    "
      ],
      "text/plain": [
       "<IPython.core.display.Javascript object>"
      ]
     },
     "metadata": {},
     "output_type": "display_data"
    },
    {
     "data": {
      "application/javascript": [
       "\n",
       "        if (window._pyforest_update_imports_cell) { window._pyforest_update_imports_cell('import numpy as np\\nimport pandas as pd\\nimport matplotlib.pyplot as plt'); }\n",
       "    "
      ],
      "text/plain": [
       "<IPython.core.display.Javascript object>"
      ]
     },
     "metadata": {},
     "output_type": "display_data"
    },
    {
     "data": {
      "image/png": "[encoded data removed]",
      "text/plain": [
       "<Figure size 432x288 with 1 Axes>"
      ]
     },
     "metadata": {
      "needs_background": "light"
     },
     "output_type": "display_data"
    }
   ],
   "source": [
    "plt.plot(model_history.history['loss'])\n",
    "plt.plot(model_history.history['val_loss'])\n",
    "plt.title('model loss')\n",
    "plt.ylabel('loss')\n",
    "plt.xlabel('epoch')\n",
    "plt.legend(['train', 'test'], loc='upper left')\n",
    "plt.show()"
   ]
  },
  {
   "cell_type": "code",
   "execution_count": 142,
   "metadata": {},
   "outputs": [],
   "source": [
    "train_predict=model.predict(X_train)\n",
    "test_predict=model.predict(X_test)"
   ]
  },
  {
   "cell_type": "code",
   "execution_count": 143,
   "metadata": {},
   "outputs": [
    {
     "data": {
      "application/javascript": [
       "\n",
       "        if (window._pyforest_update_imports_cell) { window._pyforest_update_imports_cell('import numpy as np\\nimport pandas as pd\\nimport matplotlib.pyplot as plt'); }\n",
       "    "
      ],
      "text/plain": [
       "<IPython.core.display.Javascript object>"
      ]
     },
     "metadata": {},
     "output_type": "display_data"
    },
    {
     "data": {
      "application/javascript": [
       "\n",
       "        if (window._pyforest_update_imports_cell) { window._pyforest_update_imports_cell('import numpy as np\\nimport pandas as pd\\nimport matplotlib.pyplot as plt'); }\n",
       "    "
      ],
      "text/plain": [
       "<IPython.core.display.Javascript object>"
      ]
     },
     "metadata": {},
     "output_type": "display_data"
    },
    {
     "data": {
      "application/javascript": [
       "\n",
       "        if (window._pyforest_update_imports_cell) { window._pyforest_update_imports_cell('import numpy as np\\nimport pandas as pd\\nimport matplotlib.pyplot as plt'); }\n",
       "    "
      ],
      "text/plain": [
       "<IPython.core.display.Javascript object>"
      ]
     },
     "metadata": {},
     "output_type": "display_data"
    },
    {
     "data": {
      "application/javascript": [
       "\n",
       "        if (window._pyforest_update_imports_cell) { window._pyforest_update_imports_cell('import numpy as np\\nimport pandas as pd\\nimport matplotlib.pyplot as plt'); }\n",
       "    "
      ],
      "text/plain": [
       "<IPython.core.display.Javascript object>"
      ]
     },
     "metadata": {},
     "output_type": "display_data"
    },
    {
     "data": {
      "application/javascript": [
       "\n",
       "        if (window._pyforest_update_imports_cell) { window._pyforest_update_imports_cell('import numpy as np\\nimport pandas as pd\\nimport matplotlib.pyplot as plt'); }\n",
       "    "
      ],
      "text/plain": [
       "<IPython.core.display.Javascript object>"
      ]
     },
     "metadata": {},
     "output_type": "display_data"
    },
    {
     "data": {
      "image/png": "[encoded data removed]",
      "text/plain": [
       "<Figure size 432x288 with 1 Axes>"
      ]
     },
     "metadata": {
      "needs_background": "light"
     },
     "output_type": "display_data"
    }
   ],
   "source": [
    "\n",
    "plt.plot(test_predict, color='orange', label='Predicted Data')\n",
    "plt.plot(ytest, color='red', label='Actual Data')\n",
    "plt.title('Stock Prediction')\n",
    "plt.legend()\n",
    "plt.show()"
   ]
  },
  {
   "cell_type": "code",
   "execution_count": 144,
   "metadata": {},
   "outputs": [],
   "source": [
    "train_predict=scaler.inverse_transform(train_predict)\n",
    "test_predict=scaler.inverse_transform(test_predict)"
   ]
  },
  {
   "cell_type": "code",
   "execution_count": null,
   "metadata": {},
   "outputs": [],
   "source": []
  },
  {
   "cell_type": "code",
   "execution_count": 145,
   "metadata": {},
   "outputs": [
    {
     "data": {
      "text/plain": [
       "470"
      ]
     },
     "execution_count": 145,
     "metadata": {},
     "output_type": "execute_result"
    }
   ],
   "source": [
    "len(test_data)"
   ]
  },
  {
   "cell_type": "markdown",
   "metadata": {},
   "source": [
    "Taking last 100 values for future prediction"
   ]
  },
  {
   "cell_type": "code",
   "execution_count": 166,
   "metadata": {},
   "outputs": [
    {
     "data": {
      "text/plain": [
       "(1, 100)"
      ]
     },
     "execution_count": 166,
     "metadata": {},
     "output_type": "execute_result"
    }
   ],
   "source": [
    "x_input=test_data[370:].reshape(1,-1)\n",
    "x_input.shape"
   ]
  },
  {
   "cell_type": "code",
   "execution_count": 167,
   "metadata": {},
   "outputs": [
    {
     "data": {
      "text/plain": [
       "array([[0.4060339 ],\n",
       "       [0.41626357],\n",
       "       [0.41049482],\n",
       "       [0.40967669],\n",
       "       [0.40515007],\n",
       "       [0.39813919],\n",
       "       [0.40082052],\n",
       "       [0.40322715],\n",
       "       [0.40023529],\n",
       "       [0.397333  ],\n",
       "       [0.39543994],\n",
       "       [0.39296165],\n",
       "       [0.39965005],\n",
       "       [0.3925496 ],\n",
       "       [0.39063265],\n",
       "       [0.38331124],\n",
       "       [0.38137638],\n",
       "       [0.38304251],\n",
       "       [0.37398927],\n",
       "       [0.36851912],\n",
       "       [0.37213205],\n",
       "       [0.36569446],\n",
       "       [0.36332963],\n",
       "       [0.36299521],\n",
       "       [0.36337741],\n",
       "       [0.36708589],\n",
       "       [0.36239803],\n",
       "       [0.37292032],\n",
       "       [0.36447621],\n",
       "       [0.36078565],\n",
       "       [0.36077371],\n",
       "       [0.36080356],\n",
       "       [0.35950769],\n",
       "       [0.35817598],\n",
       "       [0.35359561],\n",
       "       [0.35861192],\n",
       "       [0.36216513],\n",
       "       [0.36339532],\n",
       "       [0.36613637],\n",
       "       [0.35203698],\n",
       "       [0.35607391],\n",
       "       [0.36439858],\n",
       "       [0.37007178],\n",
       "       [0.3924421 ],\n",
       "       [0.40600404],\n",
       "       [0.39768533],\n",
       "       [0.39483082],\n",
       "       [0.38898444],\n",
       "       [0.3904953 ],\n",
       "       [0.39866471],\n",
       "       [0.39438891],\n",
       "       [0.39524884],\n",
       "       [0.40282107],\n",
       "       [0.40185962],\n",
       "       [0.40267178],\n",
       "       [0.41904045],\n",
       "       [0.42035425],\n",
       "       [0.409187  ],\n",
       "       [0.41961374],\n",
       "       [0.42089171],\n",
       "       [0.41810885],\n",
       "       [0.41368376],\n",
       "       [0.40136396],\n",
       "       [0.38868585],\n",
       "       [0.38400397],\n",
       "       [0.38888889],\n",
       "       [0.39006533],\n",
       "       [0.38414132],\n",
       "       [0.3864942 ],\n",
       "       [0.37630633],\n",
       "       [0.38014619],\n",
       "       [0.37056147],\n",
       "       [0.37584053],\n",
       "       [0.38347248],\n",
       "       [0.37619884],\n",
       "       [0.37504628],\n",
       "       [0.39631182],\n",
       "       [0.38687042],\n",
       "       [0.39726731],\n",
       "       [0.39535036],\n",
       "       [0.39607295],\n",
       "       [0.37965053],\n",
       "       [0.38457129],\n",
       "       [0.39693886],\n",
       "       [0.40458872],\n",
       "       [0.40449915],\n",
       "       [0.40632651],\n",
       "       [0.40492911],\n",
       "       [0.4088705 ],\n",
       "       [0.38974285],\n",
       "       [0.40532922],\n",
       "       [0.42675003],\n",
       "       [0.42414036],\n",
       "       [0.43033311],\n",
       "       [0.43415505],\n",
       "       [0.43668709],\n",
       "       [0.4436502 ],\n",
       "       [0.4410465 ],\n",
       "       [0.44560894],\n",
       "       [0.44222891],\n",
       "       [0.4385264 ],\n",
       "       [0.43768438],\n",
       "       [0.44213336],\n",
       "       [0.43368925],\n",
       "       [0.43807255],\n",
       "       [0.43846668],\n",
       "       [0.43991186],\n",
       "       [0.4366632 ],\n",
       "       [0.43111541],\n",
       "       [0.42929999],\n",
       "       [0.43373703],\n",
       "       [0.41918975],\n",
       "       [0.4193689 ],\n",
       "       [0.41923155],\n",
       "       [0.42488683],\n",
       "       [0.43060184],\n",
       "       [0.428028  ],\n",
       "       [0.42660671],\n",
       "       [0.42506002],\n",
       "       [0.42532278],\n",
       "       [0.0893738 ],\n",
       "       [0.08942157],\n",
       "       [0.08305565],\n",
       "       [0.07866041],\n",
       "       [0.07889331],\n",
       "       [0.07534009],\n",
       "       [0.07634933],\n",
       "       [0.08269734],\n",
       "       [0.0853727 ],\n",
       "       [0.08953504],\n",
       "       [0.09330921],\n",
       "       [0.09355405],\n",
       "       [0.09452745],\n",
       "       [0.08855566],\n",
       "       [0.08895577],\n",
       "       [0.08943352],\n",
       "       [0.09446773],\n",
       "       [0.09295687],\n",
       "       [0.09404374],\n",
       "       [0.09568598],\n",
       "       [0.10219523],\n",
       "       [0.102243  ],\n",
       "       [0.10238633],\n",
       "       [0.10400468],\n",
       "       [0.1009113 ],\n",
       "       [0.10162194],\n",
       "       [0.10267297],\n",
       "       [0.10709807],\n",
       "       [0.10867462],\n",
       "       [0.10758776],\n",
       "       [0.10847755],\n",
       "       [0.1085731 ],\n",
       "       [0.10437493],\n",
       "       [0.10648297],\n",
       "       [0.10960622],\n",
       "       [0.11499277],\n",
       "       [0.11467627],\n",
       "       [0.11071697],\n",
       "       [0.11676042],\n",
       "       [0.11625879],\n",
       "       [0.10871045],\n",
       "       [0.10552749],\n",
       "       [0.10208177],\n",
       "       [0.10371206],\n",
       "       [0.10828645],\n",
       "       [0.11381633],\n",
       "       [0.1147121 ],\n",
       "       [0.11507041],\n",
       "       [0.11811005],\n",
       "       [0.12051668],\n",
       "       [0.1165335 ],\n",
       "       [0.12350257],\n",
       "       [0.12094068],\n",
       "       [0.11650961],\n",
       "       [0.11769799],\n",
       "       [0.11672459],\n",
       "       [0.11315346],\n",
       "       [0.10094115],\n",
       "       [0.10146667],\n",
       "       [0.09562029],\n",
       "       [0.07998615],\n",
       "       [0.0841664 ],\n",
       "       [0.08883037],\n",
       "       [0.09176251],\n",
       "       [0.09873756],\n",
       "       [0.09046066],\n",
       "       [0.07766312],\n",
       "       [0.07213324],\n",
       "       [0.05559736],\n",
       "       [0.03983183],\n",
       "       [0.03053376],\n",
       "       [0.02769716],\n",
       "       [0.01754512],\n",
       "       [0.        ],\n",
       "       [0.01725847],\n",
       "       [0.00164821],\n",
       "       [0.01747346],\n",
       "       [0.01917542],\n",
       "       [0.02291973],\n",
       "       [0.01089254],\n",
       "       [0.00812163],\n",
       "       [0.01556845],\n",
       "       [0.00524323],\n",
       "       [0.00147503],\n",
       "       [0.01802286],\n",
       "       [0.03244473],\n",
       "       [0.03379436],\n",
       "       [0.02724927],\n",
       "       [0.03584865],\n",
       "       [0.03104136],\n",
       "       [0.02841975],\n",
       "       [0.03247459],\n",
       "       [0.02521887],\n",
       "       [0.02895123],\n",
       "       [0.03625473],\n",
       "       [0.0397542 ],\n",
       "       [0.03910328],\n",
       "       [0.03635625],\n",
       "       [0.04102022],\n",
       "       [0.06837699],\n",
       "       [0.06028521],\n",
       "       [0.06513431],\n",
       "       [0.06258435],\n",
       "       [0.06582703],\n",
       "       [0.06090628],\n",
       "       [0.06986993],\n",
       "       [0.07054475],\n",
       "       [0.07010881],\n",
       "       [0.06508653],\n",
       "       [0.05846382],\n",
       "       [0.05938347],\n",
       "       [0.06109738],\n",
       "       [0.06636449],\n",
       "       [0.070491  ],\n",
       "       [0.0695176 ],\n",
       "       [0.06927276],\n",
       "       [0.06654962],\n",
       "       [0.07246169],\n",
       "       [0.08072068],\n",
       "       [0.09117131],\n",
       "       [0.08836457],\n",
       "       [0.08897966],\n",
       "       [0.09380487],\n",
       "       [0.0982001 ],\n",
       "       [0.09883311],\n",
       "       [0.0979254 ],\n",
       "       [0.10012899],\n",
       "       [0.09922128],\n",
       "       [0.09256871],\n",
       "       [0.09645037],\n",
       "       [0.10315669],\n",
       "       [0.09845092],\n",
       "       [0.09745363],\n",
       "       [0.09430052],\n",
       "       [0.09442593],\n",
       "       [0.09806275],\n",
       "       [0.09149976],\n",
       "       [0.08322286],\n",
       "       [0.08908118],\n",
       "       [0.08623264],\n",
       "       [0.08580864],\n",
       "       [0.08411265],\n",
       "       [0.09050844],\n",
       "       [0.09759695],\n",
       "       [0.1021594 ],\n",
       "       [0.10314474],\n",
       "       [0.09976471],\n",
       "       [0.10275061],\n",
       "       [0.10192053],\n",
       "       [0.1104363 ],\n",
       "       [0.11292654],\n",
       "       [0.12143036],\n",
       "       [0.13026861],\n",
       "       [0.13007154],\n",
       "       [0.13515951],\n",
       "       [0.14291686],\n",
       "       [0.14089242],\n",
       "       [0.14221219],\n",
       "       [0.15093697],\n",
       "       [0.16727579],\n",
       "       [0.17543923],\n",
       "       [0.1707036 ],\n",
       "       [0.17403585],\n",
       "       [0.175911  ],\n",
       "       [0.17588711],\n",
       "       [0.1674848 ],\n",
       "       [0.16602769],\n",
       "       [0.1712112 ],\n",
       "       [0.16616504],\n",
       "       [0.16556189],\n",
       "       [0.16543648],\n",
       "       [0.17388059],\n",
       "       [0.1854778 ],\n",
       "       [0.18058691],\n",
       "       [0.18086161],\n",
       "       [0.18130352],\n",
       "       [0.17677691],\n",
       "       [0.1778578 ],\n",
       "       [0.17569004],\n",
       "       [0.17303857],\n",
       "       [0.17162922],\n",
       "       [0.176968  ],\n",
       "       [0.17850275],\n",
       "       [0.17717104],\n",
       "       [0.17435833],\n",
       "       [0.16842237],\n",
       "       [0.17024377],\n",
       "       [0.17643054],\n",
       "       [0.17068568],\n",
       "       [0.17259665],\n",
       "       [0.18793818],\n",
       "       [0.18411026],\n",
       "       [0.18378779],\n",
       "       [0.18525685],\n",
       "       [0.22131451],\n",
       "       [0.22839705],\n",
       "       [0.22448553],\n",
       "       [0.23568264],\n",
       "       [0.23987483],\n",
       "       [0.24948941],\n",
       "       [0.24031077],\n",
       "       [0.24753067],\n",
       "       [0.22950183],\n",
       "       [0.24420438],\n",
       "       [0.25213491],\n",
       "       [0.24634825],\n",
       "       [0.23883574],\n",
       "       [0.2404959 ],\n",
       "       [0.24708875],\n",
       "       [0.2479248 ],\n",
       "       [0.24705889],\n",
       "       [0.2681632 ],\n",
       "       [0.2646279 ],\n",
       "       [0.26990099],\n",
       "       [0.28650256],\n",
       "       [0.28687878],\n",
       "       [0.26932172],\n",
       "       [0.25267835],\n",
       "       [0.25994602],\n",
       "       [0.27631469],\n",
       "       [0.275825  ],\n",
       "       [0.27096994],\n",
       "       [0.26711216],\n",
       "       [0.26265124],\n",
       "       [0.2587636 ],\n",
       "       [0.25102416],\n",
       "       [0.25085695],\n",
       "       [0.25862625],\n",
       "       [0.24647366],\n",
       "       [0.24421035],\n",
       "       [0.24590037],\n",
       "       [0.25559855],\n",
       "       [0.25684666],\n",
       "       [0.26506384],\n",
       "       [0.24251436],\n",
       "       [0.24074671],\n",
       "       [0.2474172 ],\n",
       "       [0.24685585],\n",
       "       [0.24971037],\n",
       "       [0.24218591],\n",
       "       [0.23591554],\n",
       "       [0.23783248],\n",
       "       [0.24106322],\n",
       "       [0.25042101],\n",
       "       [0.259737  ],\n",
       "       [0.24846824],\n",
       "       [0.25166314],\n",
       "       [0.24739929],\n",
       "       [0.24656324],\n",
       "       [0.25454752],\n",
       "       [0.26548784],\n",
       "       [0.26726146],\n",
       "       [0.26348131],\n",
       "       [0.27027721],\n",
       "       [0.27558016],\n",
       "       [0.27284508],\n",
       "       [0.2714656 ],\n",
       "       [0.27088633],\n",
       "       [0.28075173],\n",
       "       [0.28123544],\n",
       "       [0.28015455],\n",
       "       [0.28924361],\n",
       "       [0.28629952],\n",
       "       [0.28659811],\n",
       "       [0.30591088],\n",
       "       [0.30228003],\n",
       "       [0.30345647],\n",
       "       [0.31268289],\n",
       "       [0.31523284],\n",
       "       [0.31601514],\n",
       "       [0.32106728],\n",
       "       [0.33185233],\n",
       "       [0.34159232],\n",
       "       [0.34156843],\n",
       "       [0.33244951],\n",
       "       [0.34258363],\n",
       "       [0.37081228],\n",
       "       [0.37994315],\n",
       "       [0.38300668],\n",
       "       [0.36635733],\n",
       "       [0.35639638],\n",
       "       [0.34462002],\n",
       "       [0.34216561],\n",
       "       [0.35124273],\n",
       "       [0.352879  ],\n",
       "       [0.34456627],\n",
       "       [0.33055645],\n",
       "       [0.32399345],\n",
       "       [0.31532242],\n",
       "       [0.30737994],\n",
       "       [0.299957  ],\n",
       "       [0.31992667],\n",
       "       [0.32954125],\n",
       "       [0.32636426],\n",
       "       [0.32015359],\n",
       "       [0.32308574],\n",
       "       [0.3303773 ],\n",
       "       [0.32418455],\n",
       "       [0.32959499],\n",
       "       [0.3352025 ],\n",
       "       [0.32490714],\n",
       "       [0.32204665],\n",
       "       [0.31885772],\n",
       "       [0.31904284],\n",
       "       [0.32174806],\n",
       "       [0.30892663],\n",
       "       [0.30070945],\n",
       "       [0.29886417],\n",
       "       [0.30851458],\n",
       "       [0.29932997],\n",
       "       [0.30824585],\n",
       "       [0.31793209],\n",
       "       [0.32659716],\n",
       "       [0.3274989 ],\n",
       "       [0.3256357 ],\n",
       "       [0.32786317],\n",
       "       [0.32931432],\n",
       "       [0.34353315],\n",
       "       [0.34421991],\n",
       "       [0.34304346],\n",
       "       [0.35586489],\n",
       "       [0.3540017 ],\n",
       "       [0.3299115 ],\n",
       "       [0.32614927],\n",
       "       [0.33104017],\n",
       "       [0.3399023 ],\n",
       "       [0.33695224],\n",
       "       [0.32978012],\n",
       "       [0.328323  ],\n",
       "       [0.34230296],\n",
       "       [0.34378994],\n",
       "       [0.35314176],\n",
       "       [0.36408208],\n",
       "       [0.36785028],\n",
       "       [0.37124822],\n",
       "       [0.37516572],\n",
       "       [0.37739319],\n",
       "       [0.36007501],\n",
       "       [0.34517539],\n",
       "       [0.3367492 ],\n",
       "       [0.35649193],\n",
       "       [0.35588281],\n",
       "       [0.33386482],\n",
       "       [0.32887241],\n",
       "       [0.32825731],\n",
       "       [0.30975074],\n",
       "       [0.30757701],\n",
       "       [0.30672304],\n",
       "       [0.29938371],\n",
       "       [0.29379412]])"
      ]
     },
     "execution_count": 167,
     "metadata": {},
     "output_type": "execute_result"
    }
   ],
   "source": [
    "test_data"
   ]
  },
  {
   "cell_type": "code",
   "execution_count": 168,
   "metadata": {},
   "outputs": [
    {
     "data": {
      "text/plain": [
       "array([[0.26548784, 0.26726146, 0.26348131, 0.27027721, 0.27558016,\n",
       "        0.27284508, 0.2714656 , 0.27088633, 0.28075173, 0.28123544,\n",
       "        0.28015455, 0.28924361, 0.28629952, 0.28659811, 0.30591088,\n",
       "        0.30228003, 0.30345647, 0.31268289, 0.31523284, 0.31601514,\n",
       "        0.32106728, 0.33185233, 0.34159232, 0.34156843, 0.33244951,\n",
       "        0.34258363, 0.37081228, 0.37994315, 0.38300668, 0.36635733,\n",
       "        0.35639638, 0.34462002, 0.34216561, 0.35124273, 0.352879  ,\n",
       "        0.34456627, 0.33055645, 0.32399345, 0.31532242, 0.30737994,\n",
       "        0.299957  , 0.31992667, 0.32954125, 0.32636426, 0.32015359,\n",
       "        0.32308574, 0.3303773 , 0.32418455, 0.32959499, 0.3352025 ,\n",
       "        0.32490714, 0.32204665, 0.31885772, 0.31904284, 0.32174806,\n",
       "        0.30892663, 0.30070945, 0.29886417, 0.30851458, 0.29932997,\n",
       "        0.30824585, 0.31793209, 0.32659716, 0.3274989 , 0.3256357 ,\n",
       "        0.32786317, 0.32931432, 0.34353315, 0.34421991, 0.34304346,\n",
       "        0.35586489, 0.3540017 , 0.3299115 , 0.32614927, 0.33104017,\n",
       "        0.3399023 , 0.33695224, 0.32978012, 0.328323  , 0.34230296,\n",
       "        0.34378994, 0.35314176, 0.36408208, 0.36785028, 0.37124822,\n",
       "        0.37516572, 0.37739319, 0.36007501, 0.34517539, 0.3367492 ,\n",
       "        0.35649193, 0.35588281, 0.33386482, 0.32887241, 0.32825731,\n",
       "        0.30975074, 0.30757701, 0.30672304, 0.29938371, 0.29379412]])"
      ]
     },
     "execution_count": 168,
     "metadata": {},
     "output_type": "execute_result"
    }
   ],
   "source": [
    "x_input"
   ]
  },
  {
   "cell_type": "code",
   "execution_count": 169,
   "metadata": {},
   "outputs": [],
   "source": [
    "temp_input=list(x_input)\n",
    "temp_input=temp_input[0].tolist()"
   ]
  },
  {
   "cell_type": "markdown",
   "metadata": {},
   "source": [
    "Function to predict future and add it as input so that next day prediction can be made based on previous day prediction"
   ]
  },
  {
   "cell_type": "markdown",
   "metadata": {},
   "source": [
    "Making Prediction for next 2 months"
   ]
  },
  {
   "cell_type": "code",
   "execution_count": 170,
   "metadata": {},
   "outputs": [
    {
     "name": "stdout",
     "output_type": "stream",
     "text": [
      "1 day output 928.9598999023438\n"
     ]
    },
    {
     "data": {
      "application/javascript": [
       "\n",
       "        if (window._pyforest_update_imports_cell) { window._pyforest_update_imports_cell('import numpy as np\\nimport pandas as pd\\nimport matplotlib.pyplot as plt'); }\n",
       "    "
      ],
      "text/plain": [
       "<IPython.core.display.Javascript object>"
      ]
     },
     "metadata": {},
     "output_type": "display_data"
    },
    {
     "name": "stdout",
     "output_type": "stream",
     "text": [
      "2 day output 924.3707885742188\n"
     ]
    },
    {
     "data": {
      "application/javascript": [
       "\n",
       "        if (window._pyforest_update_imports_cell) { window._pyforest_update_imports_cell('import numpy as np\\nimport pandas as pd\\nimport matplotlib.pyplot as plt'); }\n",
       "    "
      ],
      "text/plain": [
       "<IPython.core.display.Javascript object>"
      ]
     },
     "metadata": {},
     "output_type": "display_data"
    },
    {
     "name": "stdout",
     "output_type": "stream",
     "text": [
      "3 day output 923.0628051757812\n"
     ]
    },
    {
     "data": {
      "application/javascript": [
       "\n",
       "        if (window._pyforest_update_imports_cell) { window._pyforest_update_imports_cell('import numpy as np\\nimport pandas as pd\\nimport matplotlib.pyplot as plt'); }\n",
       "    "
      ],
      "text/plain": [
       "<IPython.core.display.Javascript object>"
      ]
     },
     "metadata": {},
     "output_type": "display_data"
    },
    {
     "name": "stdout",
     "output_type": "stream",
     "text": [
      "4 day output 924.1746826171875\n"
     ]
    },
    {
     "data": {
      "application/javascript": [
       "\n",
       "        if (window._pyforest_update_imports_cell) { window._pyforest_update_imports_cell('import numpy as np\\nimport pandas as pd\\nimport matplotlib.pyplot as plt'); }\n",
       "    "
      ],
      "text/plain": [
       "<IPython.core.display.Javascript object>"
      ]
     },
     "metadata": {},
     "output_type": "display_data"
    },
    {
     "name": "stdout",
     "output_type": "stream",
     "text": [
      "5 day output 926.8358154296875\n"
     ]
    },
    {
     "data": {
      "application/javascript": [
       "\n",
       "        if (window._pyforest_update_imports_cell) { window._pyforest_update_imports_cell('import numpy as np\\nimport pandas as pd\\nimport matplotlib.pyplot as plt'); }\n",
       "    "
      ],
      "text/plain": [
       "<IPython.core.display.Javascript object>"
      ]
     },
     "metadata": {},
     "output_type": "display_data"
    },
    {
     "name": "stdout",
     "output_type": "stream",
     "text": [
      "6 day output 930.3850708007812\n"
     ]
    },
    {
     "data": {
      "application/javascript": [
       "\n",
       "        if (window._pyforest_update_imports_cell) { window._pyforest_update_imports_cell('import numpy as np\\nimport pandas as pd\\nimport matplotlib.pyplot as plt'); }\n",
       "    "
      ],
      "text/plain": [
       "<IPython.core.display.Javascript object>"
      ]
     },
     "metadata": {},
     "output_type": "display_data"
    },
    {
     "name": "stdout",
     "output_type": "stream",
     "text": [
      "7 day output 934.381591796875\n"
     ]
    },
    {
     "data": {
      "application/javascript": [
       "\n",
       "        if (window._pyforest_update_imports_cell) { window._pyforest_update_imports_cell('import numpy as np\\nimport pandas as pd\\nimport matplotlib.pyplot as plt'); }\n",
       "    "
      ],
      "text/plain": [
       "<IPython.core.display.Javascript object>"
      ]
     },
     "metadata": {},
     "output_type": "display_data"
    },
    {
     "name": "stdout",
     "output_type": "stream",
     "text": [
      "8 day output 938.545166015625\n"
     ]
    },
    {
     "data": {
      "application/javascript": [
       "\n",
       "        if (window._pyforest_update_imports_cell) { window._pyforest_update_imports_cell('import numpy as np\\nimport pandas as pd\\nimport matplotlib.pyplot as plt'); }\n",
       "    "
      ],
      "text/plain": [
       "<IPython.core.display.Javascript object>"
      ]
     },
     "metadata": {},
     "output_type": "display_data"
    },
    {
     "name": "stdout",
     "output_type": "stream",
     "text": [
      "9 day output 942.694091796875\n"
     ]
    },
    {
     "data": {
      "application/javascript": [
       "\n",
       "        if (window._pyforest_update_imports_cell) { window._pyforest_update_imports_cell('import numpy as np\\nimport pandas as pd\\nimport matplotlib.pyplot as plt'); }\n",
       "    "
      ],
      "text/plain": [
       "<IPython.core.display.Javascript object>"
      ]
     },
     "metadata": {},
     "output_type": "display_data"
    },
    {
     "name": "stdout",
     "output_type": "stream",
     "text": [
      "10 day output 946.70166015625\n"
     ]
    },
    {
     "data": {
      "application/javascript": [
       "\n",
       "        if (window._pyforest_update_imports_cell) { window._pyforest_update_imports_cell('import numpy as np\\nimport pandas as pd\\nimport matplotlib.pyplot as plt'); }\n",
       "    "
      ],
      "text/plain": [
       "<IPython.core.display.Javascript object>"
      ]
     },
     "metadata": {},
     "output_type": "display_data"
    },
    {
     "name": "stdout",
     "output_type": "stream",
     "text": [
      "11 day output 950.4720458984375\n"
     ]
    },
    {
     "data": {
      "application/javascript": [
       "\n",
       "        if (window._pyforest_update_imports_cell) { window._pyforest_update_imports_cell('import numpy as np\\nimport pandas as pd\\nimport matplotlib.pyplot as plt'); }\n",
       "    "
      ],
      "text/plain": [
       "<IPython.core.display.Javascript object>"
      ]
     },
     "metadata": {},
     "output_type": "display_data"
    },
    {
     "name": "stdout",
     "output_type": "stream",
     "text": [
      "12 day output 953.9291381835938\n"
     ]
    },
    {
     "data": {
      "application/javascript": [
       "\n",
       "        if (window._pyforest_update_imports_cell) { window._pyforest_update_imports_cell('import numpy as np\\nimport pandas as pd\\nimport matplotlib.pyplot as plt'); }\n",
       "    "
      ],
      "text/plain": [
       "<IPython.core.display.Javascript object>"
      ]
     },
     "metadata": {},
     "output_type": "display_data"
    },
    {
     "name": "stdout",
     "output_type": "stream",
     "text": [
      "13 day output 957.0140991210938\n"
     ]
    },
    {
     "data": {
      "application/javascript": [
       "\n",
       "        if (window._pyforest_update_imports_cell) { window._pyforest_update_imports_cell('import numpy as np\\nimport pandas as pd\\nimport matplotlib.pyplot as plt'); }\n",
       "    "
      ],
      "text/plain": [
       "<IPython.core.display.Javascript object>"
      ]
     },
     "metadata": {},
     "output_type": "display_data"
    },
    {
     "name": "stdout",
     "output_type": "stream",
     "text": [
      "14 day output 959.6846923828125\n"
     ]
    },
    {
     "data": {
      "application/javascript": [
       "\n",
       "        if (window._pyforest_update_imports_cell) { window._pyforest_update_imports_cell('import numpy as np\\nimport pandas as pd\\nimport matplotlib.pyplot as plt'); }\n",
       "    "
      ],
      "text/plain": [
       "<IPython.core.display.Javascript object>"
      ]
     },
     "metadata": {},
     "output_type": "display_data"
    },
    {
     "name": "stdout",
     "output_type": "stream",
     "text": [
      "15 day output 961.9151000976562\n"
     ]
    },
    {
     "data": {
      "application/javascript": [
       "\n",
       "        if (window._pyforest_update_imports_cell) { window._pyforest_update_imports_cell('import numpy as np\\nimport pandas as pd\\nimport matplotlib.pyplot as plt'); }\n",
       "    "
      ],
      "text/plain": [
       "<IPython.core.display.Javascript object>"
      ]
     },
     "metadata": {},
     "output_type": "display_data"
    },
    {
     "name": "stdout",
     "output_type": "stream",
     "text": [
      "16 day output 963.6959228515625\n"
     ]
    },
    {
     "data": {
      "application/javascript": [
       "\n",
       "        if (window._pyforest_update_imports_cell) { window._pyforest_update_imports_cell('import numpy as np\\nimport pandas as pd\\nimport matplotlib.pyplot as plt'); }\n",
       "    "
      ],
      "text/plain": [
       "<IPython.core.display.Javascript object>"
      ]
     },
     "metadata": {},
     "output_type": "display_data"
    },
    {
     "name": "stdout",
     "output_type": "stream",
     "text": [
      "17 day output 965.0333251953125\n"
     ]
    },
    {
     "data": {
      "application/javascript": [
       "\n",
       "        if (window._pyforest_update_imports_cell) { window._pyforest_update_imports_cell('import numpy as np\\nimport pandas as pd\\nimport matplotlib.pyplot as plt'); }\n",
       "    "
      ],
      "text/plain": [
       "<IPython.core.display.Javascript object>"
      ]
     },
     "metadata": {},
     "output_type": "display_data"
    },
    {
     "name": "stdout",
     "output_type": "stream",
     "text": [
      "18 day output 965.9468994140625\n"
     ]
    },
    {
     "data": {
      "application/javascript": [
       "\n",
       "        if (window._pyforest_update_imports_cell) { window._pyforest_update_imports_cell('import numpy as np\\nimport pandas as pd\\nimport matplotlib.pyplot as plt'); }\n",
       "    "
      ],
      "text/plain": [
       "<IPython.core.display.Javascript object>"
      ]
     },
     "metadata": {},
     "output_type": "display_data"
    },
    {
     "name": "stdout",
     "output_type": "stream",
     "text": [
      "19 day output 966.4677124023438\n"
     ]
    },
    {
     "data": {
      "application/javascript": [
       "\n",
       "        if (window._pyforest_update_imports_cell) { window._pyforest_update_imports_cell('import numpy as np\\nimport pandas as pd\\nimport matplotlib.pyplot as plt'); }\n",
       "    "
      ],
      "text/plain": [
       "<IPython.core.display.Javascript object>"
      ]
     },
     "metadata": {},
     "output_type": "display_data"
    },
    {
     "name": "stdout",
     "output_type": "stream",
     "text": [
      "20 day output 966.635986328125\n"
     ]
    },
    {
     "data": {
      "application/javascript": [
       "\n",
       "        if (window._pyforest_update_imports_cell) { window._pyforest_update_imports_cell('import numpy as np\\nimport pandas as pd\\nimport matplotlib.pyplot as plt'); }\n",
       "    "
      ],
      "text/plain": [
       "<IPython.core.display.Javascript object>"
      ]
     },
     "metadata": {},
     "output_type": "display_data"
    },
    {
     "name": "stdout",
     "output_type": "stream",
     "text": [
      "21 day output 966.4985961914062\n"
     ]
    },
    {
     "data": {
      "application/javascript": [
       "\n",
       "        if (window._pyforest_update_imports_cell) { window._pyforest_update_imports_cell('import numpy as np\\nimport pandas as pd\\nimport matplotlib.pyplot as plt'); }\n",
       "    "
      ],
      "text/plain": [
       "<IPython.core.display.Javascript object>"
      ]
     },
     "metadata": {},
     "output_type": "display_data"
    },
    {
     "name": "stdout",
     "output_type": "stream",
     "text": [
      "22 day output 966.1063842773438\n"
     ]
    },
    {
     "data": {
      "application/javascript": [
       "\n",
       "        if (window._pyforest_update_imports_cell) { window._pyforest_update_imports_cell('import numpy as np\\nimport pandas as pd\\nimport matplotlib.pyplot as plt'); }\n",
       "    "
      ],
      "text/plain": [
       "<IPython.core.display.Javascript object>"
      ]
     },
     "metadata": {},
     "output_type": "display_data"
    },
    {
     "name": "stdout",
     "output_type": "stream",
     "text": [
      "23 day output 965.512451171875\n"
     ]
    },
    {
     "data": {
      "application/javascript": [
       "\n",
       "        if (window._pyforest_update_imports_cell) { window._pyforest_update_imports_cell('import numpy as np\\nimport pandas as pd\\nimport matplotlib.pyplot as plt'); }\n",
       "    "
      ],
      "text/plain": [
       "<IPython.core.display.Javascript object>"
      ]
     },
     "metadata": {},
     "output_type": "display_data"
    },
    {
     "name": "stdout",
     "output_type": "stream",
     "text": [
      "24 day output 964.7698364257812\n"
     ]
    },
    {
     "data": {
      "application/javascript": [
       "\n",
       "        if (window._pyforest_update_imports_cell) { window._pyforest_update_imports_cell('import numpy as np\\nimport pandas as pd\\nimport matplotlib.pyplot as plt'); }\n",
       "    "
      ],
      "text/plain": [
       "<IPython.core.display.Javascript object>"
      ]
     },
     "metadata": {},
     "output_type": "display_data"
    },
    {
     "name": "stdout",
     "output_type": "stream",
     "text": [
      "25 day output 963.9293212890625\n"
     ]
    },
    {
     "data": {
      "application/javascript": [
       "\n",
       "        if (window._pyforest_update_imports_cell) { window._pyforest_update_imports_cell('import numpy as np\\nimport pandas as pd\\nimport matplotlib.pyplot as plt'); }\n",
       "    "
      ],
      "text/plain": [
       "<IPython.core.display.Javascript object>"
      ]
     },
     "metadata": {},
     "output_type": "display_data"
    },
    {
     "name": "stdout",
     "output_type": "stream",
     "text": [
      "26 day output 963.0386352539062\n"
     ]
    },
    {
     "data": {
      "application/javascript": [
       "\n",
       "        if (window._pyforest_update_imports_cell) { window._pyforest_update_imports_cell('import numpy as np\\nimport pandas as pd\\nimport matplotlib.pyplot as plt'); }\n",
       "    "
      ],
      "text/plain": [
       "<IPython.core.display.Javascript object>"
      ]
     },
     "metadata": {},
     "output_type": "display_data"
    },
    {
     "name": "stdout",
     "output_type": "stream",
     "text": [
      "27 day output 962.1412353515625\n"
     ]
    },
    {
     "data": {
      "application/javascript": [
       "\n",
       "        if (window._pyforest_update_imports_cell) { window._pyforest_update_imports_cell('import numpy as np\\nimport pandas as pd\\nimport matplotlib.pyplot as plt'); }\n",
       "    "
      ],
      "text/plain": [
       "<IPython.core.display.Javascript object>"
      ]
     },
     "metadata": {},
     "output_type": "display_data"
    },
    {
     "name": "stdout",
     "output_type": "stream",
     "text": [
      "28 day output 961.2742919921875\n"
     ]
    },
    {
     "data": {
      "application/javascript": [
       "\n",
       "        if (window._pyforest_update_imports_cell) { window._pyforest_update_imports_cell('import numpy as np\\nimport pandas as pd\\nimport matplotlib.pyplot as plt'); }\n",
       "    "
      ],
      "text/plain": [
       "<IPython.core.display.Javascript object>"
      ]
     },
     "metadata": {},
     "output_type": "display_data"
    },
    {
     "name": "stdout",
     "output_type": "stream",
     "text": [
      "29 day output 960.4700317382812\n"
     ]
    },
    {
     "data": {
      "application/javascript": [
       "\n",
       "        if (window._pyforest_update_imports_cell) { window._pyforest_update_imports_cell('import numpy as np\\nimport pandas as pd\\nimport matplotlib.pyplot as plt'); }\n",
       "    "
      ],
      "text/plain": [
       "<IPython.core.display.Javascript object>"
      ]
     },
     "metadata": {},
     "output_type": "display_data"
    },
    {
     "name": "stdout",
     "output_type": "stream",
     "text": [
      "30 day output 959.7537841796875\n"
     ]
    },
    {
     "data": {
      "application/javascript": [
       "\n",
       "        if (window._pyforest_update_imports_cell) { window._pyforest_update_imports_cell('import numpy as np\\nimport pandas as pd\\nimport matplotlib.pyplot as plt'); }\n",
       "    "
      ],
      "text/plain": [
       "<IPython.core.display.Javascript object>"
      ]
     },
     "metadata": {},
     "output_type": "display_data"
    },
    {
     "name": "stdout",
     "output_type": "stream",
     "text": [
      "31 day output 959.1448364257812\n"
     ]
    },
    {
     "data": {
      "application/javascript": [
       "\n",
       "        if (window._pyforest_update_imports_cell) { window._pyforest_update_imports_cell('import numpy as np\\nimport pandas as pd\\nimport matplotlib.pyplot as plt'); }\n",
       "    "
      ],
      "text/plain": [
       "<IPython.core.display.Javascript object>"
      ]
     },
     "metadata": {},
     "output_type": "display_data"
    },
    {
     "name": "stdout",
     "output_type": "stream",
     "text": [
      "32 day output 958.6560668945312\n"
     ]
    },
    {
     "data": {
      "application/javascript": [
       "\n",
       "        if (window._pyforest_update_imports_cell) { window._pyforest_update_imports_cell('import numpy as np\\nimport pandas as pd\\nimport matplotlib.pyplot as plt'); }\n",
       "    "
      ],
      "text/plain": [
       "<IPython.core.display.Javascript object>"
      ]
     },
     "metadata": {},
     "output_type": "display_data"
    },
    {
     "name": "stdout",
     "output_type": "stream",
     "text": [
      "33 day output 958.2954711914062\n"
     ]
    },
    {
     "data": {
      "application/javascript": [
       "\n",
       "        if (window._pyforest_update_imports_cell) { window._pyforest_update_imports_cell('import numpy as np\\nimport pandas as pd\\nimport matplotlib.pyplot as plt'); }\n",
       "    "
      ],
      "text/plain": [
       "<IPython.core.display.Javascript object>"
      ]
     },
     "metadata": {},
     "output_type": "display_data"
    },
    {
     "name": "stdout",
     "output_type": "stream",
     "text": [
      "34 day output 958.0643920898438\n"
     ]
    },
    {
     "data": {
      "application/javascript": [
       "\n",
       "        if (window._pyforest_update_imports_cell) { window._pyforest_update_imports_cell('import numpy as np\\nimport pandas as pd\\nimport matplotlib.pyplot as plt'); }\n",
       "    "
      ],
      "text/plain": [
       "<IPython.core.display.Javascript object>"
      ]
     },
     "metadata": {},
     "output_type": "display_data"
    },
    {
     "name": "stdout",
     "output_type": "stream",
     "text": [
      "35 day output 957.9609985351562\n"
     ]
    },
    {
     "data": {
      "application/javascript": [
       "\n",
       "        if (window._pyforest_update_imports_cell) { window._pyforest_update_imports_cell('import numpy as np\\nimport pandas as pd\\nimport matplotlib.pyplot as plt'); }\n",
       "    "
      ],
      "text/plain": [
       "<IPython.core.display.Javascript object>"
      ]
     },
     "metadata": {},
     "output_type": "display_data"
    },
    {
     "name": "stdout",
     "output_type": "stream",
     "text": [
      "36 day output 957.9788818359375\n"
     ]
    },
    {
     "data": {
      "application/javascript": [
       "\n",
       "        if (window._pyforest_update_imports_cell) { window._pyforest_update_imports_cell('import numpy as np\\nimport pandas as pd\\nimport matplotlib.pyplot as plt'); }\n",
       "    "
      ],
      "text/plain": [
       "<IPython.core.display.Javascript object>"
      ]
     },
     "metadata": {},
     "output_type": "display_data"
    },
    {
     "name": "stdout",
     "output_type": "stream",
     "text": [
      "37 day output 958.1083984375\n"
     ]
    },
    {
     "data": {
      "application/javascript": [
       "\n",
       "        if (window._pyforest_update_imports_cell) { window._pyforest_update_imports_cell('import numpy as np\\nimport pandas as pd\\nimport matplotlib.pyplot as plt'); }\n",
       "    "
      ],
      "text/plain": [
       "<IPython.core.display.Javascript object>"
      ]
     },
     "metadata": {},
     "output_type": "display_data"
    },
    {
     "name": "stdout",
     "output_type": "stream",
     "text": [
      "38 day output 958.337890625\n"
     ]
    },
    {
     "data": {
      "application/javascript": [
       "\n",
       "        if (window._pyforest_update_imports_cell) { window._pyforest_update_imports_cell('import numpy as np\\nimport pandas as pd\\nimport matplotlib.pyplot as plt'); }\n",
       "    "
      ],
      "text/plain": [
       "<IPython.core.display.Javascript object>"
      ]
     },
     "metadata": {},
     "output_type": "display_data"
    },
    {
     "name": "stdout",
     "output_type": "stream",
     "text": [
      "39 day output 958.6537475585938\n"
     ]
    },
    {
     "data": {
      "application/javascript": [
       "\n",
       "        if (window._pyforest_update_imports_cell) { window._pyforest_update_imports_cell('import numpy as np\\nimport pandas as pd\\nimport matplotlib.pyplot as plt'); }\n",
       "    "
      ],
      "text/plain": [
       "<IPython.core.display.Javascript object>"
      ]
     },
     "metadata": {},
     "output_type": "display_data"
    },
    {
     "name": "stdout",
     "output_type": "stream",
     "text": [
      "40 day output 959.0413208007812\n"
     ]
    },
    {
     "data": {
      "application/javascript": [
       "\n",
       "        if (window._pyforest_update_imports_cell) { window._pyforest_update_imports_cell('import numpy as np\\nimport pandas as pd\\nimport matplotlib.pyplot as plt'); }\n",
       "    "
      ],
      "text/plain": [
       "<IPython.core.display.Javascript object>"
      ]
     },
     "metadata": {},
     "output_type": "display_data"
    },
    {
     "name": "stdout",
     "output_type": "stream",
     "text": [
      "41 day output 959.4852905273438\n"
     ]
    },
    {
     "data": {
      "application/javascript": [
       "\n",
       "        if (window._pyforest_update_imports_cell) { window._pyforest_update_imports_cell('import numpy as np\\nimport pandas as pd\\nimport matplotlib.pyplot as plt'); }\n",
       "    "
      ],
      "text/plain": [
       "<IPython.core.display.Javascript object>"
      ]
     },
     "metadata": {},
     "output_type": "display_data"
    },
    {
     "name": "stdout",
     "output_type": "stream",
     "text": [
      "42 day output 959.970947265625\n"
     ]
    },
    {
     "data": {
      "application/javascript": [
       "\n",
       "        if (window._pyforest_update_imports_cell) { window._pyforest_update_imports_cell('import numpy as np\\nimport pandas as pd\\nimport matplotlib.pyplot as plt'); }\n",
       "    "
      ],
      "text/plain": [
       "<IPython.core.display.Javascript object>"
      ]
     },
     "metadata": {},
     "output_type": "display_data"
    },
    {
     "name": "stdout",
     "output_type": "stream",
     "text": [
      "43 day output 960.48388671875\n"
     ]
    },
    {
     "data": {
      "application/javascript": [
       "\n",
       "        if (window._pyforest_update_imports_cell) { window._pyforest_update_imports_cell('import numpy as np\\nimport pandas as pd\\nimport matplotlib.pyplot as plt'); }\n",
       "    "
      ],
      "text/plain": [
       "<IPython.core.display.Javascript object>"
      ]
     },
     "metadata": {},
     "output_type": "display_data"
    },
    {
     "name": "stdout",
     "output_type": "stream",
     "text": [
      "44 day output 961.010498046875\n"
     ]
    },
    {
     "data": {
      "application/javascript": [
       "\n",
       "        if (window._pyforest_update_imports_cell) { window._pyforest_update_imports_cell('import numpy as np\\nimport pandas as pd\\nimport matplotlib.pyplot as plt'); }\n",
       "    "
      ],
      "text/plain": [
       "<IPython.core.display.Javascript object>"
      ]
     },
     "metadata": {},
     "output_type": "display_data"
    },
    {
     "name": "stdout",
     "output_type": "stream",
     "text": [
      "45 day output 961.5386962890625\n"
     ]
    },
    {
     "data": {
      "application/javascript": [
       "\n",
       "        if (window._pyforest_update_imports_cell) { window._pyforest_update_imports_cell('import numpy as np\\nimport pandas as pd\\nimport matplotlib.pyplot as plt'); }\n",
       "    "
      ],
      "text/plain": [
       "<IPython.core.display.Javascript object>"
      ]
     },
     "metadata": {},
     "output_type": "display_data"
    },
    {
     "name": "stdout",
     "output_type": "stream",
     "text": [
      "46 day output 962.0579833984375\n"
     ]
    },
    {
     "data": {
      "application/javascript": [
       "\n",
       "        if (window._pyforest_update_imports_cell) { window._pyforest_update_imports_cell('import numpy as np\\nimport pandas as pd\\nimport matplotlib.pyplot as plt'); }\n",
       "    "
      ],
      "text/plain": [
       "<IPython.core.display.Javascript object>"
      ]
     },
     "metadata": {},
     "output_type": "display_data"
    },
    {
     "name": "stdout",
     "output_type": "stream",
     "text": [
      "47 day output 962.5594482421875\n"
     ]
    },
    {
     "data": {
      "application/javascript": [
       "\n",
       "        if (window._pyforest_update_imports_cell) { window._pyforest_update_imports_cell('import numpy as np\\nimport pandas as pd\\nimport matplotlib.pyplot as plt'); }\n",
       "    "
      ],
      "text/plain": [
       "<IPython.core.display.Javascript object>"
      ]
     },
     "metadata": {},
     "output_type": "display_data"
    },
    {
     "name": "stdout",
     "output_type": "stream",
     "text": [
      "48 day output 963.0355224609375\n"
     ]
    },
    {
     "data": {
      "application/javascript": [
       "\n",
       "        if (window._pyforest_update_imports_cell) { window._pyforest_update_imports_cell('import numpy as np\\nimport pandas as pd\\nimport matplotlib.pyplot as plt'); }\n",
       "    "
      ],
      "text/plain": [
       "<IPython.core.display.Javascript object>"
      ]
     },
     "metadata": {},
     "output_type": "display_data"
    },
    {
     "name": "stdout",
     "output_type": "stream",
     "text": [
      "49 day output 963.4810791015625\n"
     ]
    },
    {
     "data": {
      "application/javascript": [
       "\n",
       "        if (window._pyforest_update_imports_cell) { window._pyforest_update_imports_cell('import numpy as np\\nimport pandas as pd\\nimport matplotlib.pyplot as plt'); }\n",
       "    "
      ],
      "text/plain": [
       "<IPython.core.display.Javascript object>"
      ]
     },
     "metadata": {},
     "output_type": "display_data"
    },
    {
     "name": "stdout",
     "output_type": "stream",
     "text": [
      "50 day output 963.8920288085938\n"
     ]
    },
    {
     "data": {
      "application/javascript": [
       "\n",
       "        if (window._pyforest_update_imports_cell) { window._pyforest_update_imports_cell('import numpy as np\\nimport pandas as pd\\nimport matplotlib.pyplot as plt'); }\n",
       "    "
      ],
      "text/plain": [
       "<IPython.core.display.Javascript object>"
      ]
     },
     "metadata": {},
     "output_type": "display_data"
    },
    {
     "name": "stdout",
     "output_type": "stream",
     "text": [
      "51 day output 964.2664794921875\n"
     ]
    },
    {
     "data": {
      "application/javascript": [
       "\n",
       "        if (window._pyforest_update_imports_cell) { window._pyforest_update_imports_cell('import numpy as np\\nimport pandas as pd\\nimport matplotlib.pyplot as plt'); }\n",
       "    "
      ],
      "text/plain": [
       "<IPython.core.display.Javascript object>"
      ]
     },
     "metadata": {},
     "output_type": "display_data"
    },
    {
     "name": "stdout",
     "output_type": "stream",
     "text": [
      "52 day output 964.6035766601562\n"
     ]
    },
    {
     "data": {
      "application/javascript": [
       "\n",
       "        if (window._pyforest_update_imports_cell) { window._pyforest_update_imports_cell('import numpy as np\\nimport pandas as pd\\nimport matplotlib.pyplot as plt'); }\n",
       "    "
      ],
      "text/plain": [
       "<IPython.core.display.Javascript object>"
      ]
     },
     "metadata": {},
     "output_type": "display_data"
    },
    {
     "name": "stdout",
     "output_type": "stream",
     "text": [
      "53 day output 964.90380859375\n"
     ]
    },
    {
     "data": {
      "application/javascript": [
       "\n",
       "        if (window._pyforest_update_imports_cell) { window._pyforest_update_imports_cell('import numpy as np\\nimport pandas as pd\\nimport matplotlib.pyplot as plt'); }\n",
       "    "
      ],
      "text/plain": [
       "<IPython.core.display.Javascript object>"
      ]
     },
     "metadata": {},
     "output_type": "display_data"
    },
    {
     "name": "stdout",
     "output_type": "stream",
     "text": [
      "54 day output 965.1688842773438\n"
     ]
    },
    {
     "data": {
      "application/javascript": [
       "\n",
       "        if (window._pyforest_update_imports_cell) { window._pyforest_update_imports_cell('import numpy as np\\nimport pandas as pd\\nimport matplotlib.pyplot as plt'); }\n",
       "    "
      ],
      "text/plain": [
       "<IPython.core.display.Javascript object>"
      ]
     },
     "metadata": {},
     "output_type": "display_data"
    },
    {
     "name": "stdout",
     "output_type": "stream",
     "text": [
      "55 day output 965.4015502929688\n"
     ]
    },
    {
     "data": {
      "application/javascript": [
       "\n",
       "        if (window._pyforest_update_imports_cell) { window._pyforest_update_imports_cell('import numpy as np\\nimport pandas as pd\\nimport matplotlib.pyplot as plt'); }\n",
       "    "
      ],
      "text/plain": [
       "<IPython.core.display.Javascript object>"
      ]
     },
     "metadata": {},
     "output_type": "display_data"
    },
    {
     "name": "stdout",
     "output_type": "stream",
     "text": [
      "56 day output 965.60498046875\n"
     ]
    },
    {
     "data": {
      "application/javascript": [
       "\n",
       "        if (window._pyforest_update_imports_cell) { window._pyforest_update_imports_cell('import numpy as np\\nimport pandas as pd\\nimport matplotlib.pyplot as plt'); }\n",
       "    "
      ],
      "text/plain": [
       "<IPython.core.display.Javascript object>"
      ]
     },
     "metadata": {},
     "output_type": "display_data"
    },
    {
     "name": "stdout",
     "output_type": "stream",
     "text": [
      "57 day output 965.7831420898438\n"
     ]
    },
    {
     "data": {
      "application/javascript": [
       "\n",
       "        if (window._pyforest_update_imports_cell) { window._pyforest_update_imports_cell('import numpy as np\\nimport pandas as pd\\nimport matplotlib.pyplot as plt'); }\n",
       "    "
      ],
      "text/plain": [
       "<IPython.core.display.Javascript object>"
      ]
     },
     "metadata": {},
     "output_type": "display_data"
    },
    {
     "name": "stdout",
     "output_type": "stream",
     "text": [
      "58 day output 965.9402465820312\n"
     ]
    },
    {
     "data": {
      "application/javascript": [
       "\n",
       "        if (window._pyforest_update_imports_cell) { window._pyforest_update_imports_cell('import numpy as np\\nimport pandas as pd\\nimport matplotlib.pyplot as plt'); }\n",
       "    "
      ],
      "text/plain": [
       "<IPython.core.display.Javascript object>"
      ]
     },
     "metadata": {},
     "output_type": "display_data"
    },
    {
     "name": "stdout",
     "output_type": "stream",
     "text": [
      "59 day output 966.0803833007812\n"
     ]
    },
    {
     "data": {
      "application/javascript": [
       "\n",
       "        if (window._pyforest_update_imports_cell) { window._pyforest_update_imports_cell('import numpy as np\\nimport pandas as pd\\nimport matplotlib.pyplot as plt'); }\n",
       "    "
      ],
      "text/plain": [
       "<IPython.core.display.Javascript object>"
      ]
     },
     "metadata": {},
     "output_type": "display_data"
    },
    {
     "name": "stdout",
     "output_type": "stream",
     "text": [
      "60 day output 966.2079467773438\n"
     ]
    }
   ],
   "source": [
    "from numpy import array\n",
    "\n",
    "lst_output=[]\n",
    "n_steps=100\n",
    "i=0\n",
    "while(i<60):\n",
    "    \n",
    "    if(len(temp_input)>100):\n",
    "        #print(temp_input)\n",
    "        x_input=np.array(temp_input[1:])\n",
    "        x_input=x_input.reshape(1,-1)\n",
    "        x_input = x_input.reshape((1, n_steps, 1))\n",
    "        #print(x_input)\n",
    "        yhat = model.predict(x_input, verbose=0)\n",
    "        yhat_actual = scaler.inverse_transform(yhat)\n",
    "        print(\"{} day output {}\".format(i+1,yhat_actual[0][0]))\n",
    "        temp_input.extend(yhat[0].tolist())\n",
    "        temp_input=temp_input[1:]\n",
    "        #print(temp_input)\n",
    "        lst_output.extend(yhat.tolist())\n",
    "        i=i+1\n",
    "    else:\n",
    "        x_input = x_input.reshape((1, n_steps,1))\n",
    "        yhat = model.predict(x_input, verbose=0)\n",
    "        yhat_actual = scaler.inverse_transform(yhat)\n",
    "        print(\"{} day output {}\".format(i+1,yhat_actual[0][0]))\n",
    "        \n",
    "        temp_input.extend(yhat[0].tolist())\n",
    "        lst_output.extend(yhat.tolist())\n",
    "        i=i+1\n",
    "    \n"
   ]
  },
  {
   "cell_type": "code",
   "execution_count": null,
   "metadata": {},
   "outputs": [],
   "source": []
  }
 ],
 "metadata": {
  "kernelspec": {
   "display_name": "Python 3",
   "language": "python",
   "name": "python3"
  },
  "language_info": {
   "codemirror_mode": {
    "name": "ipython",
    "version": 3
   },
   "file_extension": ".py",
   "mimetype": "text/x-python",
   "name": "python",
   "nbconvert_exporter": "python",
   "pygments_lexer": "ipython3",
   "version": "3.8.5"
  }
 },
 "nbformat": 4,
 "nbformat_minor": 4
}
